{
 "cells": [
  {
   "cell_type": "code",
   "execution_count": 1,
   "metadata": {},
   "outputs": [],
   "source": [
    "import pandas as pd\n",
    "import matplotlib.pyplot as plt\n",
    "import seaborn\n",
    "import zipcodes as zcode"
   ]
  },
  {
   "cell_type": "code",
   "execution_count": 2,
   "metadata": {},
   "outputs": [
    {
     "ename": "FileNotFoundError",
     "evalue": "[Errno 2] No such file or directory: 'Loan_Modelling.csv'",
     "output_type": "error",
     "traceback": [
      "\u001b[1;31m---------------------------------------------------------------------------\u001b[0m",
      "\u001b[1;31mFileNotFoundError\u001b[0m                         Traceback (most recent call last)",
      "\u001b[1;32m<ipython-input-2-28701d05526e>\u001b[0m in \u001b[0;36m<module>\u001b[1;34m\u001b[0m\n\u001b[1;32m----> 1\u001b[1;33m \u001b[0mdf\u001b[0m\u001b[1;33m=\u001b[0m \u001b[0mpd\u001b[0m\u001b[1;33m.\u001b[0m\u001b[0mread_csv\u001b[0m\u001b[1;33m(\u001b[0m\u001b[1;34m'Loan_Modelling.csv'\u001b[0m\u001b[1;33m)\u001b[0m\u001b[1;33m\u001b[0m\u001b[1;33m\u001b[0m\u001b[0m\n\u001b[0m",
      "\u001b[1;32m~\\anaconda3\\lib\\site-packages\\pandas\\io\\parsers.py\u001b[0m in \u001b[0;36mread_csv\u001b[1;34m(filepath_or_buffer, sep, delimiter, header, names, index_col, usecols, squeeze, prefix, mangle_dupe_cols, dtype, engine, converters, true_values, false_values, skipinitialspace, skiprows, skipfooter, nrows, na_values, keep_default_na, na_filter, verbose, skip_blank_lines, parse_dates, infer_datetime_format, keep_date_col, date_parser, dayfirst, cache_dates, iterator, chunksize, compression, thousands, decimal, lineterminator, quotechar, quoting, doublequote, escapechar, comment, encoding, dialect, error_bad_lines, warn_bad_lines, delim_whitespace, low_memory, memory_map, float_precision)\u001b[0m\n\u001b[0;32m    684\u001b[0m     )\n\u001b[0;32m    685\u001b[0m \u001b[1;33m\u001b[0m\u001b[0m\n\u001b[1;32m--> 686\u001b[1;33m     \u001b[1;32mreturn\u001b[0m \u001b[0m_read\u001b[0m\u001b[1;33m(\u001b[0m\u001b[0mfilepath_or_buffer\u001b[0m\u001b[1;33m,\u001b[0m \u001b[0mkwds\u001b[0m\u001b[1;33m)\u001b[0m\u001b[1;33m\u001b[0m\u001b[1;33m\u001b[0m\u001b[0m\n\u001b[0m\u001b[0;32m    687\u001b[0m \u001b[1;33m\u001b[0m\u001b[0m\n\u001b[0;32m    688\u001b[0m \u001b[1;33m\u001b[0m\u001b[0m\n",
      "\u001b[1;32m~\\anaconda3\\lib\\site-packages\\pandas\\io\\parsers.py\u001b[0m in \u001b[0;36m_read\u001b[1;34m(filepath_or_buffer, kwds)\u001b[0m\n\u001b[0;32m    450\u001b[0m \u001b[1;33m\u001b[0m\u001b[0m\n\u001b[0;32m    451\u001b[0m     \u001b[1;31m# Create the parser.\u001b[0m\u001b[1;33m\u001b[0m\u001b[1;33m\u001b[0m\u001b[1;33m\u001b[0m\u001b[0m\n\u001b[1;32m--> 452\u001b[1;33m     \u001b[0mparser\u001b[0m \u001b[1;33m=\u001b[0m \u001b[0mTextFileReader\u001b[0m\u001b[1;33m(\u001b[0m\u001b[0mfp_or_buf\u001b[0m\u001b[1;33m,\u001b[0m \u001b[1;33m**\u001b[0m\u001b[0mkwds\u001b[0m\u001b[1;33m)\u001b[0m\u001b[1;33m\u001b[0m\u001b[1;33m\u001b[0m\u001b[0m\n\u001b[0m\u001b[0;32m    453\u001b[0m \u001b[1;33m\u001b[0m\u001b[0m\n\u001b[0;32m    454\u001b[0m     \u001b[1;32mif\u001b[0m \u001b[0mchunksize\u001b[0m \u001b[1;32mor\u001b[0m \u001b[0miterator\u001b[0m\u001b[1;33m:\u001b[0m\u001b[1;33m\u001b[0m\u001b[1;33m\u001b[0m\u001b[0m\n",
      "\u001b[1;32m~\\anaconda3\\lib\\site-packages\\pandas\\io\\parsers.py\u001b[0m in \u001b[0;36m__init__\u001b[1;34m(self, f, engine, **kwds)\u001b[0m\n\u001b[0;32m    944\u001b[0m             \u001b[0mself\u001b[0m\u001b[1;33m.\u001b[0m\u001b[0moptions\u001b[0m\u001b[1;33m[\u001b[0m\u001b[1;34m\"has_index_names\"\u001b[0m\u001b[1;33m]\u001b[0m \u001b[1;33m=\u001b[0m \u001b[0mkwds\u001b[0m\u001b[1;33m[\u001b[0m\u001b[1;34m\"has_index_names\"\u001b[0m\u001b[1;33m]\u001b[0m\u001b[1;33m\u001b[0m\u001b[1;33m\u001b[0m\u001b[0m\n\u001b[0;32m    945\u001b[0m \u001b[1;33m\u001b[0m\u001b[0m\n\u001b[1;32m--> 946\u001b[1;33m         \u001b[0mself\u001b[0m\u001b[1;33m.\u001b[0m\u001b[0m_make_engine\u001b[0m\u001b[1;33m(\u001b[0m\u001b[0mself\u001b[0m\u001b[1;33m.\u001b[0m\u001b[0mengine\u001b[0m\u001b[1;33m)\u001b[0m\u001b[1;33m\u001b[0m\u001b[1;33m\u001b[0m\u001b[0m\n\u001b[0m\u001b[0;32m    947\u001b[0m \u001b[1;33m\u001b[0m\u001b[0m\n\u001b[0;32m    948\u001b[0m     \u001b[1;32mdef\u001b[0m \u001b[0mclose\u001b[0m\u001b[1;33m(\u001b[0m\u001b[0mself\u001b[0m\u001b[1;33m)\u001b[0m\u001b[1;33m:\u001b[0m\u001b[1;33m\u001b[0m\u001b[1;33m\u001b[0m\u001b[0m\n",
      "\u001b[1;32m~\\anaconda3\\lib\\site-packages\\pandas\\io\\parsers.py\u001b[0m in \u001b[0;36m_make_engine\u001b[1;34m(self, engine)\u001b[0m\n\u001b[0;32m   1176\u001b[0m     \u001b[1;32mdef\u001b[0m \u001b[0m_make_engine\u001b[0m\u001b[1;33m(\u001b[0m\u001b[0mself\u001b[0m\u001b[1;33m,\u001b[0m \u001b[0mengine\u001b[0m\u001b[1;33m=\u001b[0m\u001b[1;34m\"c\"\u001b[0m\u001b[1;33m)\u001b[0m\u001b[1;33m:\u001b[0m\u001b[1;33m\u001b[0m\u001b[1;33m\u001b[0m\u001b[0m\n\u001b[0;32m   1177\u001b[0m         \u001b[1;32mif\u001b[0m \u001b[0mengine\u001b[0m \u001b[1;33m==\u001b[0m \u001b[1;34m\"c\"\u001b[0m\u001b[1;33m:\u001b[0m\u001b[1;33m\u001b[0m\u001b[1;33m\u001b[0m\u001b[0m\n\u001b[1;32m-> 1178\u001b[1;33m             \u001b[0mself\u001b[0m\u001b[1;33m.\u001b[0m\u001b[0m_engine\u001b[0m \u001b[1;33m=\u001b[0m \u001b[0mCParserWrapper\u001b[0m\u001b[1;33m(\u001b[0m\u001b[0mself\u001b[0m\u001b[1;33m.\u001b[0m\u001b[0mf\u001b[0m\u001b[1;33m,\u001b[0m \u001b[1;33m**\u001b[0m\u001b[0mself\u001b[0m\u001b[1;33m.\u001b[0m\u001b[0moptions\u001b[0m\u001b[1;33m)\u001b[0m\u001b[1;33m\u001b[0m\u001b[1;33m\u001b[0m\u001b[0m\n\u001b[0m\u001b[0;32m   1179\u001b[0m         \u001b[1;32melse\u001b[0m\u001b[1;33m:\u001b[0m\u001b[1;33m\u001b[0m\u001b[1;33m\u001b[0m\u001b[0m\n\u001b[0;32m   1180\u001b[0m             \u001b[1;32mif\u001b[0m \u001b[0mengine\u001b[0m \u001b[1;33m==\u001b[0m \u001b[1;34m\"python\"\u001b[0m\u001b[1;33m:\u001b[0m\u001b[1;33m\u001b[0m\u001b[1;33m\u001b[0m\u001b[0m\n",
      "\u001b[1;32m~\\anaconda3\\lib\\site-packages\\pandas\\io\\parsers.py\u001b[0m in \u001b[0;36m__init__\u001b[1;34m(self, src, **kwds)\u001b[0m\n\u001b[0;32m   2006\u001b[0m         \u001b[0mkwds\u001b[0m\u001b[1;33m[\u001b[0m\u001b[1;34m\"usecols\"\u001b[0m\u001b[1;33m]\u001b[0m \u001b[1;33m=\u001b[0m \u001b[0mself\u001b[0m\u001b[1;33m.\u001b[0m\u001b[0musecols\u001b[0m\u001b[1;33m\u001b[0m\u001b[1;33m\u001b[0m\u001b[0m\n\u001b[0;32m   2007\u001b[0m \u001b[1;33m\u001b[0m\u001b[0m\n\u001b[1;32m-> 2008\u001b[1;33m         \u001b[0mself\u001b[0m\u001b[1;33m.\u001b[0m\u001b[0m_reader\u001b[0m \u001b[1;33m=\u001b[0m \u001b[0mparsers\u001b[0m\u001b[1;33m.\u001b[0m\u001b[0mTextReader\u001b[0m\u001b[1;33m(\u001b[0m\u001b[0msrc\u001b[0m\u001b[1;33m,\u001b[0m \u001b[1;33m**\u001b[0m\u001b[0mkwds\u001b[0m\u001b[1;33m)\u001b[0m\u001b[1;33m\u001b[0m\u001b[1;33m\u001b[0m\u001b[0m\n\u001b[0m\u001b[0;32m   2009\u001b[0m         \u001b[0mself\u001b[0m\u001b[1;33m.\u001b[0m\u001b[0munnamed_cols\u001b[0m \u001b[1;33m=\u001b[0m \u001b[0mself\u001b[0m\u001b[1;33m.\u001b[0m\u001b[0m_reader\u001b[0m\u001b[1;33m.\u001b[0m\u001b[0munnamed_cols\u001b[0m\u001b[1;33m\u001b[0m\u001b[1;33m\u001b[0m\u001b[0m\n\u001b[0;32m   2010\u001b[0m \u001b[1;33m\u001b[0m\u001b[0m\n",
      "\u001b[1;32mpandas\\_libs\\parsers.pyx\u001b[0m in \u001b[0;36mpandas._libs.parsers.TextReader.__cinit__\u001b[1;34m()\u001b[0m\n",
      "\u001b[1;32mpandas\\_libs\\parsers.pyx\u001b[0m in \u001b[0;36mpandas._libs.parsers.TextReader._setup_parser_source\u001b[1;34m()\u001b[0m\n",
      "\u001b[1;31mFileNotFoundError\u001b[0m: [Errno 2] No such file or directory: 'Loan_Modelling.csv'"
     ]
    }
   ],
   "source": [
    "df= pd.read_csv('Loan_Modelling.csv')"
   ]
  },
  {
   "cell_type": "raw",
   "metadata": {},
   "source": [
    "Data Dictionary\n",
    "* ID: Customer ID\n",
    "* Age: Customer’s age in completed years\n",
    "* Experience: #years of professional experience\n",
    "* Income: Annual income of the customer (in thousand dollars)\n",
    "* ZIP Code: Home Address ZIP code.\n",
    "* Family: the Family size of the customer\n",
    "* CCAvg: Average spending on credit cards per month (in thousand dollars)\n",
    "* Education: Education Level. 1: Undergrad; 2: Graduate;3: Advanced/Professional\n",
    "* Mortgage: Value of house mortgage if any. (in thousand dollars)\n",
    "* Personal_Loan: Did this customer accept the personal loan offered in the last campaign?\n",
    "* Securities_Account: Does the customer have securities account with the bank?\n",
    "* CD_Account: Does the customer have a certificate of deposit (CD) account with the bank?\n",
    "* Online: Do customers use internet banking facilities?\n",
    "* CreditCard: Does the customer use a credit card issued by any other Bank (excluding All life Bank)?\n"
   ]
  },
  {
   "cell_type": "code",
   "execution_count": null,
   "metadata": {},
   "outputs": [],
   "source": [
    "df.head()"
   ]
  },
  {
   "cell_type": "code",
   "execution_count": null,
   "metadata": {},
   "outputs": [],
   "source": [
    "df.info()"
   ]
  },
  {
   "cell_type": "code",
   "execution_count": null,
   "metadata": {},
   "outputs": [],
   "source": [
    "df.describe()"
   ]
  },
  {
   "cell_type": "markdown",
   "metadata": {},
   "source": [
    "1. To find out the Potential Customer\n",
    "2. Which variables/features are most significant\n",
    "3. Which segment of customers should be targeted more"
   ]
  },
  {
   "cell_type": "code",
   "execution_count": null,
   "metadata": {},
   "outputs": [],
   "source": [
    "df.drop('ID',axis=1,inplace=True)"
   ]
  },
  {
   "cell_type": "code",
   "execution_count": null,
   "metadata": {},
   "outputs": [],
   "source": [
    "df.sample(5)"
   ]
  },
  {
   "cell_type": "code",
   "execution_count": null,
   "metadata": {},
   "outputs": [],
   "source": [
    "print('Number of unique values:\\n------------------------------\\n',df.nunique(),sep='')"
   ]
  },
  {
   "cell_type": "code",
   "execution_count": null,
   "metadata": {},
   "outputs": [],
   "source": [
    "print('Unique Data for all\\n')\n",
    "for c in df.columns:\n",
    "    print(c,df[c].unique(),'',sep='\\n-----------------\\n')"
   ]
  },
  {
   "cell_type": "code",
   "execution_count": null,
   "metadata": {},
   "outputs": [],
   "source": [
    "cat_cols = ['Family','Education','Securities_Account','CD_Account','Online','CreditCard','Personal_Loan']\n",
    "cont_cols = ['Age','Experience','Income','CCAvg','Mortgage']"
   ]
  },
  {
   "cell_type": "markdown",
   "metadata": {},
   "source": [
    "### Preprocessing"
   ]
  },
  {
   "cell_type": "code",
   "execution_count": null,
   "metadata": {
    "scrolled": true
   },
   "outputs": [],
   "source": [
    "# viewing the negative experience values\n",
    "df[df['Experience']<0]"
   ]
  },
  {
   "cell_type": "code",
   "execution_count": null,
   "metadata": {},
   "outputs": [],
   "source": [
    "df[df['Experience']<0].groupby(['Age','Education'])['Experience'].count()"
   ]
  },
  {
   "cell_type": "code",
   "execution_count": null,
   "metadata": {},
   "outputs": [],
   "source": [
    "import numpy as np"
   ]
  },
  {
   "cell_type": "raw",
   "metadata": {},
   "source": [
    "df['Experience'] = df['Experience'].apply(lambda x: np.abs(x) if x<0 else x)"
   ]
  },
  {
   "cell_type": "code",
   "execution_count": null,
   "metadata": {},
   "outputs": [],
   "source": [
    "# working on zipcodes"
   ]
  },
  {
   "cell_type": "raw",
   "metadata": {},
   "source": [
    "!pip install zipcodes"
   ]
  },
  {
   "cell_type": "code",
   "execution_count": null,
   "metadata": {},
   "outputs": [],
   "source": [
    "zcode.matching('92691')"
   ]
  },
  {
   "cell_type": "code",
   "execution_count": null,
   "metadata": {},
   "outputs": [],
   "source": [
    "zcode.matching('90065')[0].get('county')"
   ]
  },
  {
   "cell_type": "code",
   "execution_count": null,
   "metadata": {},
   "outputs": [],
   "source": [
    "df['County'] = df['ZIPCode'].apply(lambda x: zcode.matching(str(x))[0].get('county') if len(zcode.matching(str(x))) else str(x))"
   ]
  },
  {
   "cell_type": "code",
   "execution_count": null,
   "metadata": {},
   "outputs": [],
   "source": [
    "df['County'].nunique()"
   ]
  },
  {
   "cell_type": "code",
   "execution_count": null,
   "metadata": {},
   "outputs": [],
   "source": [
    "df.sample(5)"
   ]
  },
  {
   "cell_type": "markdown",
   "metadata": {},
   "source": [
    "### EDA"
   ]
  },
  {
   "cell_type": "code",
   "execution_count": null,
   "metadata": {},
   "outputs": [],
   "source": [
    "for col in cat_cols:\n",
    "    print('Feature:',col)\n",
    "    print(df[col].value_counts().sort_index())\n",
    "    print()\n",
    "    print('#'*20)\n",
    "    print()"
   ]
  },
  {
   "cell_type": "code",
   "execution_count": null,
   "metadata": {},
   "outputs": [],
   "source": [
    "print(round(df['Personal_Loan'].value_counts()/len(df)*100,2))"
   ]
  },
  {
   "cell_type": "code",
   "execution_count": null,
   "metadata": {},
   "outputs": [],
   "source": [
    "import seaborn as sns"
   ]
  },
  {
   "cell_type": "code",
   "execution_count": null,
   "metadata": {},
   "outputs": [],
   "source": [
    "def plot_pie_count(col, r,c,n):\n",
    "    plt.subplot(r,c,n)\n",
    "    df[col].value_counts().plot.pie(autopct='%1.1f%%')\n",
    "    plt.subplot(r,c,n+1)\n",
    "    sns.countplot(x=col, data=df, hue='Personal_Loan')"
   ]
  },
  {
   "cell_type": "code",
   "execution_count": null,
   "metadata": {},
   "outputs": [],
   "source": [
    "len(cat_cols)"
   ]
  },
  {
   "cell_type": "code",
   "execution_count": null,
   "metadata": {},
   "outputs": [],
   "source": [
    "cat_cols"
   ]
  },
  {
   "cell_type": "code",
   "execution_count": null,
   "metadata": {},
   "outputs": [],
   "source": [
    "plt.figure(figsize=(25,15))\n",
    "for i,c in enumerate(cat_cols):\n",
    "    plot_pie_count(c,3,6,(i*2)+1)"
   ]
  },
  {
   "cell_type": "code",
   "execution_count": null,
   "metadata": {},
   "outputs": [],
   "source": [
    "def plot_dist(col,r,c,p):\n",
    "    clr = ['orange','blue']\n",
    "    for i in range(2):\n",
    "        plt.subplot(r,c,p+i)\n",
    "        mean = df[col][df['Personal_Loan']==i].mean()\n",
    "        median = df[col][df['Personal_Loan']==i].median()\n",
    "        mode = df[col][df['Personal_Loan']==i].mode().tolist()[0]\n",
    "        plt.axvline(mean, color='r', linestyle='--', linewidth=2)\n",
    "        plt.axvline(median, color='b', linestyle='-', linewidth=2)\n",
    "        plt.axvline(mode, color='g', linestyle='-.', linewidth=2)\n",
    "        sns.histplot(df[col][df['Personal_Loan']==i], bins=20, color=clr[i])\n",
    "        plt.legend({'Mean %.1f'%mean:mean, 'Median %.1f'%median : median, 'Mode %.1f'%mode : mode})\n",
    "        plt.title(col+' & Personal Loan ={}'.format(i))"
   ]
  },
  {
   "cell_type": "code",
   "execution_count": 3,
   "metadata": {},
   "outputs": [
    {
     "ename": "NameError",
     "evalue": "name 'cont_cols' is not defined",
     "output_type": "error",
     "traceback": [
      "\u001b[1;31m---------------------------------------------------------------------------\u001b[0m",
      "\u001b[1;31mNameError\u001b[0m                                 Traceback (most recent call last)",
      "\u001b[1;32m<ipython-input-3-d51fa0b090ea>\u001b[0m in \u001b[0;36m<module>\u001b[1;34m\u001b[0m\n\u001b[0;32m      1\u001b[0m \u001b[0mplt\u001b[0m\u001b[1;33m.\u001b[0m\u001b[0mfigure\u001b[0m\u001b[1;33m(\u001b[0m\u001b[0mfigsize\u001b[0m\u001b[1;33m=\u001b[0m\u001b[1;33m(\u001b[0m\u001b[1;36m25\u001b[0m\u001b[1;33m,\u001b[0m\u001b[1;36m15\u001b[0m\u001b[1;33m)\u001b[0m\u001b[1;33m)\u001b[0m\u001b[1;33m\u001b[0m\u001b[1;33m\u001b[0m\u001b[0m\n\u001b[1;32m----> 2\u001b[1;33m \u001b[1;32mfor\u001b[0m \u001b[0mi\u001b[0m\u001b[1;33m,\u001b[0m\u001b[0mc\u001b[0m \u001b[1;32min\u001b[0m \u001b[0menumerate\u001b[0m\u001b[1;33m(\u001b[0m\u001b[0mcont_cols\u001b[0m\u001b[1;33m)\u001b[0m\u001b[1;33m:\u001b[0m\u001b[1;33m\u001b[0m\u001b[1;33m\u001b[0m\u001b[0m\n\u001b[0m\u001b[0;32m      3\u001b[0m     \u001b[0mplot_dist\u001b[0m\u001b[1;33m(\u001b[0m\u001b[0mc\u001b[0m\u001b[1;33m,\u001b[0m\u001b[1;36m3\u001b[0m\u001b[1;33m,\u001b[0m\u001b[1;36m4\u001b[0m\u001b[1;33m,\u001b[0m\u001b[1;33m(\u001b[0m\u001b[0mi\u001b[0m\u001b[1;33m*\u001b[0m\u001b[1;36m2\u001b[0m\u001b[1;33m)\u001b[0m\u001b[1;33m+\u001b[0m\u001b[1;36m1\u001b[0m\u001b[1;33m)\u001b[0m\u001b[1;33m\u001b[0m\u001b[1;33m\u001b[0m\u001b[0m\n",
      "\u001b[1;31mNameError\u001b[0m: name 'cont_cols' is not defined"
     ]
    },
    {
     "data": {
      "text/plain": [
       "<Figure size 1800x1080 with 0 Axes>"
      ]
     },
     "metadata": {},
     "output_type": "display_data"
    }
   ],
   "source": [
    "plt.figure(figsize=(25,15))\n",
    "for i,c in enumerate(cont_cols):    \n",
    "    plot_dist(c,3,4,(i*2)+1)"
   ]
  },
  {
   "cell_type": "code",
   "execution_count": 4,
   "metadata": {},
   "outputs": [
    {
     "ename": "NameError",
     "evalue": "name 'df' is not defined",
     "output_type": "error",
     "traceback": [
      "\u001b[1;31m---------------------------------------------------------------------------\u001b[0m",
      "\u001b[1;31mNameError\u001b[0m                                 Traceback (most recent call last)",
      "\u001b[1;32m<ipython-input-4-33682702f0a8>\u001b[0m in \u001b[0;36m<module>\u001b[1;34m\u001b[0m\n\u001b[1;32m----> 1\u001b[1;33m \u001b[0mdf\u001b[0m\u001b[1;33m[\u001b[0m\u001b[1;34m'County'\u001b[0m\u001b[1;33m]\u001b[0m \u001b[1;33m=\u001b[0m \u001b[0mdf\u001b[0m\u001b[1;33m[\u001b[0m\u001b[1;34m'County'\u001b[0m\u001b[1;33m]\u001b[0m\u001b[1;33m.\u001b[0m\u001b[0mapply\u001b[0m\u001b[1;33m(\u001b[0m\u001b[1;32mlambda\u001b[0m \u001b[0mx\u001b[0m\u001b[1;33m:\u001b[0m\u001b[0mx\u001b[0m\u001b[1;33m.\u001b[0m\u001b[0mreplace\u001b[0m\u001b[1;33m(\u001b[0m\u001b[1;34m' County'\u001b[0m\u001b[1;33m,\u001b[0m\u001b[1;34m''\u001b[0m\u001b[1;33m)\u001b[0m\u001b[1;33m)\u001b[0m\u001b[1;33m\u001b[0m\u001b[1;33m\u001b[0m\u001b[0m\n\u001b[0m",
      "\u001b[1;31mNameError\u001b[0m: name 'df' is not defined"
     ]
    }
   ],
   "source": [
    "df['County'] = df['County'].apply(lambda x:x.replace(' County',''))"
   ]
  },
  {
   "cell_type": "code",
   "execution_count": 5,
   "metadata": {},
   "outputs": [
    {
     "ename": "NameError",
     "evalue": "name 'df' is not defined",
     "output_type": "error",
     "traceback": [
      "\u001b[1;31m---------------------------------------------------------------------------\u001b[0m",
      "\u001b[1;31mNameError\u001b[0m                                 Traceback (most recent call last)",
      "\u001b[1;32m<ipython-input-5-0fde967e85f8>\u001b[0m in \u001b[0;36m<module>\u001b[1;34m\u001b[0m\n\u001b[0;32m      1\u001b[0m \u001b[1;31m# plt.figure(figsize=(15,25))\u001b[0m\u001b[1;33m\u001b[0m\u001b[1;33m\u001b[0m\u001b[1;33m\u001b[0m\u001b[0m\n\u001b[1;32m----> 2\u001b[1;33m \u001b[0mpd\u001b[0m\u001b[1;33m.\u001b[0m\u001b[0mcrosstab\u001b[0m\u001b[1;33m(\u001b[0m\u001b[0mindex\u001b[0m\u001b[1;33m=\u001b[0m\u001b[0mdf\u001b[0m\u001b[1;33m[\u001b[0m\u001b[1;34m'County'\u001b[0m\u001b[1;33m]\u001b[0m\u001b[1;33m,\u001b[0m \u001b[0mcolumns\u001b[0m\u001b[1;33m=\u001b[0m\u001b[0mdf\u001b[0m\u001b[1;33m[\u001b[0m\u001b[1;34m'Personal_Loan'\u001b[0m\u001b[1;33m]\u001b[0m\u001b[1;33m.\u001b[0m\u001b[0msort_values\u001b[0m\u001b[1;33m(\u001b[0m\u001b[0mascending\u001b[0m\u001b[1;33m=\u001b[0m\u001b[1;32mFalse\u001b[0m\u001b[1;33m)\u001b[0m\u001b[1;33m)\u001b[0m\u001b[1;33m.\u001b[0m\u001b[0mplot\u001b[0m\u001b[1;33m(\u001b[0m\u001b[0mkind\u001b[0m\u001b[1;33m=\u001b[0m\u001b[1;34m'barh'\u001b[0m\u001b[1;33m,\u001b[0m\u001b[0mstacked\u001b[0m\u001b[1;33m=\u001b[0m\u001b[1;32mTrue\u001b[0m\u001b[1;33m,\u001b[0m\u001b[0mfigsize\u001b[0m\u001b[1;33m=\u001b[0m\u001b[1;33m(\u001b[0m\u001b[1;36m15\u001b[0m\u001b[1;33m,\u001b[0m\u001b[1;36m18\u001b[0m\u001b[1;33m)\u001b[0m\u001b[1;33m)\u001b[0m\u001b[1;33m\u001b[0m\u001b[1;33m\u001b[0m\u001b[0m\n\u001b[0m\u001b[0;32m      3\u001b[0m \u001b[0mplt\u001b[0m\u001b[1;33m.\u001b[0m\u001b[0mgrid\u001b[0m\u001b[1;33m(\u001b[0m\u001b[1;33m)\u001b[0m\u001b[1;33m\u001b[0m\u001b[1;33m\u001b[0m\u001b[0m\n",
      "\u001b[1;31mNameError\u001b[0m: name 'df' is not defined"
     ]
    }
   ],
   "source": [
    "# plt.figure(figsize=(15,25))\n",
    "pd.crosstab(index=df['County'], columns=df['Personal_Loan'].sort_values(ascending=False)).plot(kind='barh',stacked=True,figsize=(15,18))\n",
    "plt.grid()"
   ]
  },
  {
   "cell_type": "code",
   "execution_count": 6,
   "metadata": {},
   "outputs": [
    {
     "ename": "NameError",
     "evalue": "name 'df' is not defined",
     "output_type": "error",
     "traceback": [
      "\u001b[1;31m---------------------------------------------------------------------------\u001b[0m",
      "\u001b[1;31mNameError\u001b[0m                                 Traceback (most recent call last)",
      "\u001b[1;32m<ipython-input-6-c6bd434ece2a>\u001b[0m in \u001b[0;36m<module>\u001b[1;34m\u001b[0m\n\u001b[1;32m----> 1\u001b[1;33m \u001b[0mc200\u001b[0m \u001b[1;33m=\u001b[0m \u001b[0mdf\u001b[0m\u001b[1;33m[\u001b[0m\u001b[1;34m'County'\u001b[0m\u001b[1;33m]\u001b[0m\u001b[1;33m.\u001b[0m\u001b[0mvalue_counts\u001b[0m\u001b[1;33m(\u001b[0m\u001b[1;33m)\u001b[0m\u001b[1;33m.\u001b[0m\u001b[0mindex\u001b[0m\u001b[1;33m[\u001b[0m\u001b[0mdf\u001b[0m\u001b[1;33m[\u001b[0m\u001b[1;34m'County'\u001b[0m\u001b[1;33m]\u001b[0m\u001b[1;33m.\u001b[0m\u001b[0mvalue_counts\u001b[0m\u001b[1;33m(\u001b[0m\u001b[1;33m)\u001b[0m\u001b[1;33m>\u001b[0m\u001b[1;36m200\u001b[0m\u001b[1;33m]\u001b[0m\u001b[1;33m\u001b[0m\u001b[1;33m\u001b[0m\u001b[0m\n\u001b[0m\u001b[0;32m      2\u001b[0m \u001b[0mc200\u001b[0m\u001b[1;33m\u001b[0m\u001b[1;33m\u001b[0m\u001b[0m\n",
      "\u001b[1;31mNameError\u001b[0m: name 'df' is not defined"
     ]
    }
   ],
   "source": [
    "c200 = df['County'].value_counts().index[df['County'].value_counts()>200]\n",
    "c200"
   ]
  },
  {
   "cell_type": "code",
   "execution_count": 7,
   "metadata": {},
   "outputs": [
    {
     "ename": "NameError",
     "evalue": "name 'df' is not defined",
     "output_type": "error",
     "traceback": [
      "\u001b[1;31m---------------------------------------------------------------------------\u001b[0m",
      "\u001b[1;31mNameError\u001b[0m                                 Traceback (most recent call last)",
      "\u001b[1;32m<ipython-input-7-edc8d9183531>\u001b[0m in \u001b[0;36m<module>\u001b[1;34m\u001b[0m\n\u001b[1;32m----> 1\u001b[1;33m \u001b[0mdf\u001b[0m\u001b[1;33m[\u001b[0m\u001b[1;34m'CountyGroup'\u001b[0m\u001b[1;33m]\u001b[0m \u001b[1;33m=\u001b[0m \u001b[0mdf\u001b[0m\u001b[1;33m[\u001b[0m\u001b[1;34m'County'\u001b[0m\u001b[1;33m]\u001b[0m\u001b[1;33m.\u001b[0m\u001b[0mapply\u001b[0m\u001b[1;33m(\u001b[0m\u001b[1;32mlambda\u001b[0m \u001b[0mx\u001b[0m\u001b[1;33m:\u001b[0m \u001b[0mx\u001b[0m \u001b[1;32mif\u001b[0m \u001b[0mx\u001b[0m \u001b[1;32min\u001b[0m \u001b[0mc200\u001b[0m \u001b[1;32melse\u001b[0m \u001b[1;34m'Other'\u001b[0m\u001b[1;33m)\u001b[0m\u001b[1;33m\u001b[0m\u001b[1;33m\u001b[0m\u001b[0m\n\u001b[0m",
      "\u001b[1;31mNameError\u001b[0m: name 'df' is not defined"
     ]
    }
   ],
   "source": [
    "df['CountyGroup'] = df['County'].apply(lambda x: x if x in c200 else 'Other')"
   ]
  },
  {
   "cell_type": "code",
   "execution_count": 8,
   "metadata": {},
   "outputs": [
    {
     "ename": "NameError",
     "evalue": "name 'df' is not defined",
     "output_type": "error",
     "traceback": [
      "\u001b[1;31m---------------------------------------------------------------------------\u001b[0m",
      "\u001b[1;31mNameError\u001b[0m                                 Traceback (most recent call last)",
      "\u001b[1;32m<ipython-input-8-c42a15b2c7cf>\u001b[0m in \u001b[0;36m<module>\u001b[1;34m\u001b[0m\n\u001b[1;32m----> 1\u001b[1;33m \u001b[0mdf\u001b[0m\u001b[1;33m.\u001b[0m\u001b[0mhead\u001b[0m\u001b[1;33m(\u001b[0m\u001b[1;33m)\u001b[0m\u001b[1;33m\u001b[0m\u001b[1;33m\u001b[0m\u001b[0m\n\u001b[0m",
      "\u001b[1;31mNameError\u001b[0m: name 'df' is not defined"
     ]
    }
   ],
   "source": [
    "df.head()"
   ]
  },
  {
   "cell_type": "code",
   "execution_count": 9,
   "metadata": {},
   "outputs": [
    {
     "ename": "NameError",
     "evalue": "name 'df' is not defined",
     "output_type": "error",
     "traceback": [
      "\u001b[1;31m---------------------------------------------------------------------------\u001b[0m",
      "\u001b[1;31mNameError\u001b[0m                                 Traceback (most recent call last)",
      "\u001b[1;32m<ipython-input-9-e02797254277>\u001b[0m in \u001b[0;36m<module>\u001b[1;34m\u001b[0m\n\u001b[1;32m----> 1\u001b[1;33m \u001b[0mpd\u001b[0m\u001b[1;33m.\u001b[0m\u001b[0mcrosstab\u001b[0m\u001b[1;33m(\u001b[0m\u001b[0mindex\u001b[0m\u001b[1;33m=\u001b[0m\u001b[0mdf\u001b[0m\u001b[1;33m[\u001b[0m\u001b[1;34m'CountyGroup'\u001b[0m\u001b[1;33m]\u001b[0m\u001b[1;33m,\u001b[0m \u001b[0mcolumns\u001b[0m\u001b[1;33m=\u001b[0m\u001b[0mdf\u001b[0m\u001b[1;33m[\u001b[0m\u001b[1;34m'Personal_Loan'\u001b[0m\u001b[1;33m]\u001b[0m\u001b[1;33m.\u001b[0m\u001b[0msort_values\u001b[0m\u001b[1;33m(\u001b[0m\u001b[0mascending\u001b[0m\u001b[1;33m=\u001b[0m\u001b[1;32mFalse\u001b[0m\u001b[1;33m)\u001b[0m\u001b[1;33m)\u001b[0m\u001b[1;33m.\u001b[0m\u001b[0mplot\u001b[0m\u001b[1;33m(\u001b[0m\u001b[0mkind\u001b[0m\u001b[1;33m=\u001b[0m\u001b[1;34m'barh'\u001b[0m\u001b[1;33m,\u001b[0m\u001b[0mstacked\u001b[0m\u001b[1;33m=\u001b[0m\u001b[1;32mTrue\u001b[0m\u001b[1;33m,\u001b[0m\u001b[0mfigsize\u001b[0m\u001b[1;33m=\u001b[0m\u001b[1;33m(\u001b[0m\u001b[1;36m15\u001b[0m\u001b[1;33m,\u001b[0m\u001b[1;36m8\u001b[0m\u001b[1;33m)\u001b[0m\u001b[1;33m)\u001b[0m\u001b[1;33m\u001b[0m\u001b[1;33m\u001b[0m\u001b[0m\n\u001b[0m\u001b[0;32m      2\u001b[0m \u001b[0mplt\u001b[0m\u001b[1;33m.\u001b[0m\u001b[0mgrid\u001b[0m\u001b[1;33m(\u001b[0m\u001b[1;33m)\u001b[0m\u001b[1;33m\u001b[0m\u001b[1;33m\u001b[0m\u001b[0m\n",
      "\u001b[1;31mNameError\u001b[0m: name 'df' is not defined"
     ]
    }
   ],
   "source": [
    "pd.crosstab(index=df['CountyGroup'], columns=df['Personal_Loan'].sort_values(ascending=False)).plot(kind='barh',stacked=True,figsize=(15,8))\n",
    "plt.grid()"
   ]
  },
  {
   "cell_type": "code",
   "execution_count": 10,
   "metadata": {},
   "outputs": [
    {
     "ename": "NameError",
     "evalue": "name 'sns' is not defined",
     "output_type": "error",
     "traceback": [
      "\u001b[1;31m---------------------------------------------------------------------------\u001b[0m",
      "\u001b[1;31mNameError\u001b[0m                                 Traceback (most recent call last)",
      "\u001b[1;32m<ipython-input-10-13fd35a66b58>\u001b[0m in \u001b[0;36m<module>\u001b[1;34m\u001b[0m\n\u001b[0;32m      1\u001b[0m \u001b[0mplt\u001b[0m\u001b[1;33m.\u001b[0m\u001b[0mfigure\u001b[0m\u001b[1;33m(\u001b[0m\u001b[0mfigsize\u001b[0m\u001b[1;33m=\u001b[0m\u001b[1;33m(\u001b[0m\u001b[1;36m15\u001b[0m\u001b[1;33m,\u001b[0m\u001b[1;36m6\u001b[0m\u001b[1;33m)\u001b[0m\u001b[1;33m)\u001b[0m\u001b[1;33m\u001b[0m\u001b[1;33m\u001b[0m\u001b[0m\n\u001b[1;32m----> 2\u001b[1;33m \u001b[0msns\u001b[0m\u001b[1;33m.\u001b[0m\u001b[0mheatmap\u001b[0m\u001b[1;33m(\u001b[0m\u001b[0mdf\u001b[0m\u001b[1;33m.\u001b[0m\u001b[0mcorr\u001b[0m\u001b[1;33m(\u001b[0m\u001b[1;33m)\u001b[0m\u001b[1;33m,\u001b[0m\u001b[0mcmap\u001b[0m\u001b[1;33m=\u001b[0m\u001b[1;34m'BrBG'\u001b[0m\u001b[1;33m,\u001b[0m\u001b[0mannot\u001b[0m\u001b[1;33m=\u001b[0m\u001b[1;32mTrue\u001b[0m\u001b[1;33m)\u001b[0m\u001b[1;33m\u001b[0m\u001b[1;33m\u001b[0m\u001b[0m\n\u001b[0m",
      "\u001b[1;31mNameError\u001b[0m: name 'sns' is not defined"
     ]
    },
    {
     "data": {
      "text/plain": [
       "<Figure size 1080x432 with 0 Axes>"
      ]
     },
     "metadata": {},
     "output_type": "display_data"
    }
   ],
   "source": [
    "plt.figure(figsize=(15,6))\n",
    "sns.heatmap(df.corr(),cmap='BrBG',annot=True)"
   ]
  },
  {
   "cell_type": "markdown",
   "metadata": {},
   "source": [
    "##### OutliersDetection & Removal"
   ]
  },
  {
   "cell_type": "code",
   "execution_count": 11,
   "metadata": {},
   "outputs": [
    {
     "ename": "NameError",
     "evalue": "name 'cont_cols' is not defined",
     "output_type": "error",
     "traceback": [
      "\u001b[1;31m---------------------------------------------------------------------------\u001b[0m",
      "\u001b[1;31mNameError\u001b[0m                                 Traceback (most recent call last)",
      "\u001b[1;32m<ipython-input-11-5d06bd15e1ce>\u001b[0m in \u001b[0;36m<module>\u001b[1;34m\u001b[0m\n\u001b[0;32m      1\u001b[0m \u001b[0mplt\u001b[0m\u001b[1;33m.\u001b[0m\u001b[0mfigure\u001b[0m\u001b[1;33m(\u001b[0m\u001b[0mfigsize\u001b[0m\u001b[1;33m=\u001b[0m\u001b[1;33m(\u001b[0m\u001b[1;36m18\u001b[0m\u001b[1;33m,\u001b[0m\u001b[1;36m5\u001b[0m\u001b[1;33m)\u001b[0m\u001b[1;33m)\u001b[0m\u001b[1;33m\u001b[0m\u001b[1;33m\u001b[0m\u001b[0m\n\u001b[1;32m----> 2\u001b[1;33m \u001b[1;32mfor\u001b[0m \u001b[0mi\u001b[0m\u001b[1;33m,\u001b[0m\u001b[0mc\u001b[0m \u001b[1;32min\u001b[0m \u001b[0menumerate\u001b[0m\u001b[1;33m(\u001b[0m\u001b[0mcont_cols\u001b[0m\u001b[1;33m)\u001b[0m\u001b[1;33m:\u001b[0m\u001b[1;33m\u001b[0m\u001b[1;33m\u001b[0m\u001b[0m\n\u001b[0m\u001b[0;32m      3\u001b[0m     \u001b[0mplt\u001b[0m\u001b[1;33m.\u001b[0m\u001b[0msubplot\u001b[0m\u001b[1;33m(\u001b[0m\u001b[1;36m1\u001b[0m\u001b[1;33m,\u001b[0m\u001b[1;36m5\u001b[0m\u001b[1;33m,\u001b[0m\u001b[0mi\u001b[0m\u001b[1;33m+\u001b[0m\u001b[1;36m1\u001b[0m\u001b[1;33m)\u001b[0m\u001b[1;33m\u001b[0m\u001b[1;33m\u001b[0m\u001b[0m\n\u001b[0;32m      4\u001b[0m     \u001b[0msns\u001b[0m\u001b[1;33m.\u001b[0m\u001b[0mboxplot\u001b[0m\u001b[1;33m(\u001b[0m\u001b[0mx\u001b[0m\u001b[1;33m=\u001b[0m\u001b[1;34m'Personal_Loan'\u001b[0m\u001b[1;33m,\u001b[0m\u001b[0my\u001b[0m\u001b[1;33m=\u001b[0m\u001b[0mc\u001b[0m\u001b[1;33m,\u001b[0m \u001b[0mdata\u001b[0m\u001b[1;33m=\u001b[0m\u001b[0mdf\u001b[0m\u001b[1;33m)\u001b[0m\u001b[1;33m\u001b[0m\u001b[1;33m\u001b[0m\u001b[0m\n\u001b[0;32m      5\u001b[0m \u001b[1;31m#     plt.boxplot(df[c],whis=1.5)\u001b[0m\u001b[1;33m\u001b[0m\u001b[1;33m\u001b[0m\u001b[1;33m\u001b[0m\u001b[0m\n",
      "\u001b[1;31mNameError\u001b[0m: name 'cont_cols' is not defined"
     ]
    },
    {
     "data": {
      "text/plain": [
       "<Figure size 1296x360 with 0 Axes>"
      ]
     },
     "metadata": {},
     "output_type": "display_data"
    }
   ],
   "source": [
    "plt.figure(figsize=(18,5))\n",
    "for i,c in enumerate(cont_cols):\n",
    "    plt.subplot(1,5,i+1)\n",
    "    sns.boxplot(x='Personal_Loan',y=c, data=df)\n",
    "#     plt.boxplot(df[c],whis=1.5)\n",
    "    plt.tight_layout()\n",
    "    plt.title(c.upper())\n",
    "    plt.grid()"
   ]
  },
  {
   "cell_type": "code",
   "execution_count": 12,
   "metadata": {},
   "outputs": [
    {
     "ename": "NameError",
     "evalue": "name 'df' is not defined",
     "output_type": "error",
     "traceback": [
      "\u001b[1;31m---------------------------------------------------------------------------\u001b[0m",
      "\u001b[1;31mNameError\u001b[0m                                 Traceback (most recent call last)",
      "\u001b[1;32m<ipython-input-12-b976ffd97b57>\u001b[0m in \u001b[0;36m<module>\u001b[1;34m\u001b[0m\n\u001b[1;32m----> 1\u001b[1;33m \u001b[0mincome\u001b[0m \u001b[1;33m=\u001b[0m \u001b[0mdf\u001b[0m\u001b[1;33m[\u001b[0m\u001b[1;34m'Income'\u001b[0m\u001b[1;33m]\u001b[0m\u001b[1;33m.\u001b[0m\u001b[0mcopy\u001b[0m\u001b[1;33m(\u001b[0m\u001b[1;33m)\u001b[0m\u001b[1;33m\u001b[0m\u001b[1;33m\u001b[0m\u001b[0m\n\u001b[0m",
      "\u001b[1;31mNameError\u001b[0m: name 'df' is not defined"
     ]
    }
   ],
   "source": [
    "income = df['Income'].copy()"
   ]
  },
  {
   "cell_type": "code",
   "execution_count": 13,
   "metadata": {},
   "outputs": [],
   "source": [
    "import warnings\n",
    "warnings.filterwarnings('ignore')"
   ]
  },
  {
   "cell_type": "code",
   "execution_count": 14,
   "metadata": {},
   "outputs": [
    {
     "ename": "NameError",
     "evalue": "name 'sns' is not defined",
     "output_type": "error",
     "traceback": [
      "\u001b[1;31m---------------------------------------------------------------------------\u001b[0m",
      "\u001b[1;31mNameError\u001b[0m                                 Traceback (most recent call last)",
      "\u001b[1;32m<ipython-input-14-558c62b48ec5>\u001b[0m in \u001b[0;36m<module>\u001b[1;34m\u001b[0m\n\u001b[1;32m----> 1\u001b[1;33m \u001b[0msns\u001b[0m\u001b[1;33m.\u001b[0m\u001b[0mboxplot\u001b[0m\u001b[1;33m(\u001b[0m\u001b[0mincome\u001b[0m\u001b[1;33m)\u001b[0m\u001b[1;33m\u001b[0m\u001b[1;33m\u001b[0m\u001b[0m\n\u001b[0m",
      "\u001b[1;31mNameError\u001b[0m: name 'sns' is not defined"
     ]
    }
   ],
   "source": [
    "sns.boxplot(income)"
   ]
  },
  {
   "cell_type": "code",
   "execution_count": 15,
   "metadata": {},
   "outputs": [
    {
     "ename": "NameError",
     "evalue": "name 'income' is not defined",
     "output_type": "error",
     "traceback": [
      "\u001b[1;31m---------------------------------------------------------------------------\u001b[0m",
      "\u001b[1;31mNameError\u001b[0m                                 Traceback (most recent call last)",
      "\u001b[1;32m<ipython-input-15-1fdd83755665>\u001b[0m in \u001b[0;36m<module>\u001b[1;34m\u001b[0m\n\u001b[1;32m----> 1\u001b[1;33m \u001b[0mQ1\u001b[0m \u001b[1;33m=\u001b[0m \u001b[0mincome\u001b[0m\u001b[1;33m.\u001b[0m\u001b[0mquantile\u001b[0m\u001b[1;33m(\u001b[0m\u001b[1;36m0.25\u001b[0m\u001b[1;33m)\u001b[0m\u001b[1;33m\u001b[0m\u001b[1;33m\u001b[0m\u001b[0m\n\u001b[0m\u001b[0;32m      2\u001b[0m \u001b[0mQ3\u001b[0m \u001b[1;33m=\u001b[0m \u001b[0mincome\u001b[0m\u001b[1;33m.\u001b[0m\u001b[0mquantile\u001b[0m\u001b[1;33m(\u001b[0m\u001b[1;36m0.75\u001b[0m\u001b[1;33m)\u001b[0m\u001b[1;33m\u001b[0m\u001b[1;33m\u001b[0m\u001b[0m\n\u001b[0;32m      3\u001b[0m \u001b[0mIQR\u001b[0m \u001b[1;33m=\u001b[0m \u001b[0mQ3\u001b[0m\u001b[1;33m-\u001b[0m\u001b[0mQ1\u001b[0m\u001b[1;33m\u001b[0m\u001b[1;33m\u001b[0m\u001b[0m\n\u001b[0;32m      4\u001b[0m \u001b[0mprint\u001b[0m\u001b[1;33m(\u001b[0m\u001b[1;34m'IQR is:'\u001b[0m\u001b[1;33m,\u001b[0m\u001b[0mIQR\u001b[0m\u001b[1;33m)\u001b[0m\u001b[1;33m\u001b[0m\u001b[1;33m\u001b[0m\u001b[0m\n",
      "\u001b[1;31mNameError\u001b[0m: name 'income' is not defined"
     ]
    }
   ],
   "source": [
    "Q1 = income.quantile(0.25)\n",
    "Q3 = income.quantile(0.75)\n",
    "IQR = Q3-Q1\n",
    "print('IQR is:',IQR)"
   ]
  },
  {
   "cell_type": "code",
   "execution_count": 16,
   "metadata": {},
   "outputs": [
    {
     "ename": "NameError",
     "evalue": "name 'Q1' is not defined",
     "output_type": "error",
     "traceback": [
      "\u001b[1;31m---------------------------------------------------------------------------\u001b[0m",
      "\u001b[1;31mNameError\u001b[0m                                 Traceback (most recent call last)",
      "\u001b[1;32m<ipython-input-16-3aedca9307d5>\u001b[0m in \u001b[0;36m<module>\u001b[1;34m\u001b[0m\n\u001b[1;32m----> 1\u001b[1;33m \u001b[0mQ1\u001b[0m\u001b[1;33m\u001b[0m\u001b[1;33m\u001b[0m\u001b[0m\n\u001b[0m",
      "\u001b[1;31mNameError\u001b[0m: name 'Q1' is not defined"
     ]
    }
   ],
   "source": [
    "Q1"
   ]
  },
  {
   "cell_type": "code",
   "execution_count": 17,
   "metadata": {},
   "outputs": [
    {
     "ename": "NameError",
     "evalue": "name 'Q1' is not defined",
     "output_type": "error",
     "traceback": [
      "\u001b[1;31m---------------------------------------------------------------------------\u001b[0m",
      "\u001b[1;31mNameError\u001b[0m                                 Traceback (most recent call last)",
      "\u001b[1;32m<ipython-input-17-bbde257a2122>\u001b[0m in \u001b[0;36m<module>\u001b[1;34m\u001b[0m\n\u001b[1;32m----> 1\u001b[1;33m \u001b[0mfirst_q\u001b[0m \u001b[1;33m=\u001b[0m \u001b[0mQ1\u001b[0m\u001b[1;33m-\u001b[0m\u001b[1;36m1.5\u001b[0m\u001b[1;33m*\u001b[0m\u001b[0mIQR\u001b[0m\u001b[1;33m\u001b[0m\u001b[1;33m\u001b[0m\u001b[0m\n\u001b[0m\u001b[0;32m      2\u001b[0m \u001b[0mthird_q\u001b[0m \u001b[1;33m=\u001b[0m \u001b[0mQ3\u001b[0m\u001b[1;33m+\u001b[0m\u001b[1;36m1.5\u001b[0m\u001b[1;33m*\u001b[0m\u001b[0mIQR\u001b[0m\u001b[1;33m\u001b[0m\u001b[1;33m\u001b[0m\u001b[0m\n\u001b[0;32m      3\u001b[0m \u001b[0mprint\u001b[0m\u001b[1;33m(\u001b[0m\u001b[0mfirst_q\u001b[0m\u001b[1;33m)\u001b[0m\u001b[1;33m\u001b[0m\u001b[1;33m\u001b[0m\u001b[0m\n\u001b[0;32m      4\u001b[0m \u001b[0mprint\u001b[0m\u001b[1;33m(\u001b[0m\u001b[0mthird_q\u001b[0m\u001b[1;33m)\u001b[0m\u001b[1;33m\u001b[0m\u001b[1;33m\u001b[0m\u001b[0m\n",
      "\u001b[1;31mNameError\u001b[0m: name 'Q1' is not defined"
     ]
    }
   ],
   "source": [
    "first_q = Q1-1.5*IQR\n",
    "third_q = Q3+1.5*IQR\n",
    "print(first_q)\n",
    "print(third_q)"
   ]
  },
  {
   "cell_type": "code",
   "execution_count": 18,
   "metadata": {},
   "outputs": [
    {
     "ename": "NameError",
     "evalue": "name 'income' is not defined",
     "output_type": "error",
     "traceback": [
      "\u001b[1;31m---------------------------------------------------------------------------\u001b[0m",
      "\u001b[1;31mNameError\u001b[0m                                 Traceback (most recent call last)",
      "\u001b[1;32m<ipython-input-18-3c3a3eec1cc8>\u001b[0m in \u001b[0;36m<module>\u001b[1;34m\u001b[0m\n\u001b[1;32m----> 1\u001b[1;33m \u001b[0mincome1\u001b[0m \u001b[1;33m=\u001b[0m \u001b[0mincome\u001b[0m\u001b[1;33m[\u001b[0m\u001b[1;33m(\u001b[0m\u001b[0mincome\u001b[0m\u001b[1;33m<=\u001b[0m\u001b[0mthird_q\u001b[0m\u001b[1;33m)\u001b[0m\u001b[1;33m&\u001b[0m\u001b[1;33m(\u001b[0m\u001b[0mincome\u001b[0m\u001b[1;33m>=\u001b[0m\u001b[0mfirst_q\u001b[0m\u001b[1;33m)\u001b[0m\u001b[1;33m]\u001b[0m\u001b[1;33m\u001b[0m\u001b[1;33m\u001b[0m\u001b[0m\n\u001b[0m",
      "\u001b[1;31mNameError\u001b[0m: name 'income' is not defined"
     ]
    }
   ],
   "source": [
    "income1 = income[(income<=third_q)&(income>=first_q)]"
   ]
  },
  {
   "cell_type": "code",
   "execution_count": 19,
   "metadata": {},
   "outputs": [
    {
     "ename": "NameError",
     "evalue": "name 'sns' is not defined",
     "output_type": "error",
     "traceback": [
      "\u001b[1;31m---------------------------------------------------------------------------\u001b[0m",
      "\u001b[1;31mNameError\u001b[0m                                 Traceback (most recent call last)",
      "\u001b[1;32m<ipython-input-19-c299e9deb1c2>\u001b[0m in \u001b[0;36m<module>\u001b[1;34m\u001b[0m\n\u001b[1;32m----> 1\u001b[1;33m \u001b[0msns\u001b[0m\u001b[1;33m.\u001b[0m\u001b[0mboxplot\u001b[0m\u001b[1;33m(\u001b[0m\u001b[0mincome1\u001b[0m\u001b[1;33m)\u001b[0m\u001b[1;33m\u001b[0m\u001b[1;33m\u001b[0m\u001b[0m\n\u001b[0m",
      "\u001b[1;31mNameError\u001b[0m: name 'sns' is not defined"
     ]
    }
   ],
   "source": [
    "sns.boxplot(income1)"
   ]
  },
  {
   "cell_type": "code",
   "execution_count": 20,
   "metadata": {},
   "outputs": [
    {
     "ename": "NameError",
     "evalue": "name 'income' is not defined",
     "output_type": "error",
     "traceback": [
      "\u001b[1;31m---------------------------------------------------------------------------\u001b[0m",
      "\u001b[1;31mNameError\u001b[0m                                 Traceback (most recent call last)",
      "\u001b[1;32m<ipython-input-20-2256d4b056a1>\u001b[0m in \u001b[0;36m<module>\u001b[1;34m\u001b[0m\n\u001b[1;32m----> 1\u001b[1;33m \u001b[0msum\u001b[0m\u001b[1;33m(\u001b[0m\u001b[1;33m(\u001b[0m\u001b[0mincome\u001b[0m\u001b[1;33m<=\u001b[0m\u001b[0mthird_q\u001b[0m\u001b[1;33m)\u001b[0m\u001b[1;33m&\u001b[0m\u001b[1;33m(\u001b[0m\u001b[0mincome\u001b[0m\u001b[1;33m>=\u001b[0m\u001b[0mfirst_q\u001b[0m\u001b[1;33m)\u001b[0m\u001b[1;33m)\u001b[0m\u001b[1;33m\u001b[0m\u001b[1;33m\u001b[0m\u001b[0m\n\u001b[0m",
      "\u001b[1;31mNameError\u001b[0m: name 'income' is not defined"
     ]
    }
   ],
   "source": [
    "sum((income<=third_q)&(income>=first_q))"
   ]
  },
  {
   "cell_type": "markdown",
   "metadata": {},
   "source": [
    "### Prepare the Data for Training"
   ]
  },
  {
   "cell_type": "code",
   "execution_count": 21,
   "metadata": {},
   "outputs": [
    {
     "ename": "NameError",
     "evalue": "name 'df' is not defined",
     "output_type": "error",
     "traceback": [
      "\u001b[1;31m---------------------------------------------------------------------------\u001b[0m",
      "\u001b[1;31mNameError\u001b[0m                                 Traceback (most recent call last)",
      "\u001b[1;32m<ipython-input-21-b666bf274d0a>\u001b[0m in \u001b[0;36m<module>\u001b[1;34m\u001b[0m\n\u001b[1;32m----> 1\u001b[1;33m \u001b[0mdf\u001b[0m\u001b[1;33m.\u001b[0m\u001b[0mcolumns\u001b[0m\u001b[1;33m\u001b[0m\u001b[1;33m\u001b[0m\u001b[0m\n\u001b[0m",
      "\u001b[1;31mNameError\u001b[0m: name 'df' is not defined"
     ]
    }
   ],
   "source": [
    "df.columns"
   ]
  },
  {
   "cell_type": "code",
   "execution_count": 22,
   "metadata": {},
   "outputs": [
    {
     "ename": "NameError",
     "evalue": "name 'df' is not defined",
     "output_type": "error",
     "traceback": [
      "\u001b[1;31m---------------------------------------------------------------------------\u001b[0m",
      "\u001b[1;31mNameError\u001b[0m                                 Traceback (most recent call last)",
      "\u001b[1;32m<ipython-input-22-54b470fbb080>\u001b[0m in \u001b[0;36m<module>\u001b[1;34m\u001b[0m\n\u001b[1;32m----> 1\u001b[1;33m \u001b[0mx\u001b[0m \u001b[1;33m=\u001b[0m \u001b[0mdf\u001b[0m\u001b[1;33m[\u001b[0m\u001b[1;33m[\u001b[0m\u001b[1;34m'Age'\u001b[0m\u001b[1;33m,\u001b[0m\u001b[1;34m'Experience'\u001b[0m\u001b[1;33m,\u001b[0m\u001b[1;34m'Income'\u001b[0m\u001b[1;33m,\u001b[0m\u001b[1;34m'Family'\u001b[0m\u001b[1;33m,\u001b[0m\u001b[1;34m'CCAvg'\u001b[0m\u001b[1;33m,\u001b[0m\u001b[1;34m'Education'\u001b[0m\u001b[1;33m,\u001b[0m\u001b[1;34m'Mortgage'\u001b[0m\u001b[1;33m,\u001b[0m\u001b[1;34m'Securities_Account'\u001b[0m\u001b[1;33m,\u001b[0m\u001b[1;34m'CD_Account'\u001b[0m\u001b[1;33m,\u001b[0m\u001b[1;34m'Online'\u001b[0m\u001b[1;33m,\u001b[0m\u001b[1;34m'CreditCard'\u001b[0m\u001b[1;33m]\u001b[0m\u001b[1;33m]\u001b[0m\u001b[1;33m\u001b[0m\u001b[1;33m\u001b[0m\u001b[0m\n\u001b[0m\u001b[0;32m      2\u001b[0m \u001b[0my\u001b[0m \u001b[1;33m=\u001b[0m \u001b[0mdf\u001b[0m\u001b[1;33m[\u001b[0m\u001b[1;34m'Personal_Loan'\u001b[0m\u001b[1;33m]\u001b[0m\u001b[1;33m\u001b[0m\u001b[1;33m\u001b[0m\u001b[0m\n",
      "\u001b[1;31mNameError\u001b[0m: name 'df' is not defined"
     ]
    }
   ],
   "source": [
    "x = df[['Age','Experience','Income','Family','CCAvg','Education','Mortgage','Securities_Account','CD_Account','Online','CreditCard']]\n",
    "y = df['Personal_Loan']"
   ]
  },
  {
   "cell_type": "code",
   "execution_count": 23,
   "metadata": {},
   "outputs": [],
   "source": [
    "from sklearn.model_selection import train_test_split"
   ]
  },
  {
   "cell_type": "code",
   "execution_count": 24,
   "metadata": {},
   "outputs": [
    {
     "ename": "NameError",
     "evalue": "name 'x' is not defined",
     "output_type": "error",
     "traceback": [
      "\u001b[1;31m---------------------------------------------------------------------------\u001b[0m",
      "\u001b[1;31mNameError\u001b[0m                                 Traceback (most recent call last)",
      "\u001b[1;32m<ipython-input-24-40b985904cdd>\u001b[0m in \u001b[0;36m<module>\u001b[1;34m\u001b[0m\n\u001b[1;32m----> 1\u001b[1;33m \u001b[0mxtrain\u001b[0m\u001b[1;33m,\u001b[0m\u001b[0mxtest\u001b[0m\u001b[1;33m,\u001b[0m \u001b[0mytrain\u001b[0m\u001b[1;33m,\u001b[0m \u001b[0mytest\u001b[0m \u001b[1;33m=\u001b[0m \u001b[0mtrain_test_split\u001b[0m\u001b[1;33m(\u001b[0m\u001b[0mx\u001b[0m\u001b[1;33m,\u001b[0m\u001b[0my\u001b[0m\u001b[1;33m,\u001b[0m\u001b[0mtest_size\u001b[0m\u001b[1;33m=\u001b[0m\u001b[1;36m0.25\u001b[0m\u001b[1;33m,\u001b[0m \u001b[0mrandom_state\u001b[0m\u001b[1;33m=\u001b[0m\u001b[1;36m101\u001b[0m\u001b[1;33m)\u001b[0m\u001b[1;33m\u001b[0m\u001b[1;33m\u001b[0m\u001b[0m\n\u001b[0m",
      "\u001b[1;31mNameError\u001b[0m: name 'x' is not defined"
     ]
    }
   ],
   "source": [
    "xtrain,xtest, ytrain, ytest = train_test_split(x,y,test_size=0.25, random_state=101)"
   ]
  },
  {
   "cell_type": "markdown",
   "metadata": {},
   "source": [
    "### Machine Learning"
   ]
  },
  {
   "cell_type": "code",
   "execution_count": null,
   "metadata": {},
   "outputs": [],
   "source": [
    "from sklearn.linear_model import LogisticRegression\n",
    "from sklearn.tree import DecisionTreeClassifier\n",
    "from sklearn.ensemble import RandomForestClassifier\n",
    "from sklearn.svm import SVC"
   ]
  },
  {
   "cell_type": "code",
   "execution_count": 51,
   "metadata": {},
   "outputs": [],
   "source": [
    "model_log = LogisticRegression().fit(xtrain,ytrain)\n",
    "model_dt = DecisionTreeClassifier().fit(xtrain,ytrain)\n",
    "model_rf = RandomForestClassifier().fit(xtrain,ytrain)\n",
    "model_svc = SVC().fit(xtrain,ytrain)"
   ]
  },
  {
   "cell_type": "code",
   "execution_count": 52,
   "metadata": {},
   "outputs": [
    {
     "data": {
      "text/plain": [
       "0.9448"
      ]
     },
     "execution_count": 52,
     "metadata": {},
     "output_type": "execute_result"
    }
   ],
   "source": [
    "model_log.score(xtest,ytest)"
   ]
  },
  {
   "cell_type": "code",
   "execution_count": 53,
   "metadata": {},
   "outputs": [
    {
     "data": {
      "text/plain": [
       "0.98"
      ]
     },
     "execution_count": 53,
     "metadata": {},
     "output_type": "execute_result"
    }
   ],
   "source": [
    "model_dt.score(xtest,ytest)"
   ]
  },
  {
   "cell_type": "code",
   "execution_count": 54,
   "metadata": {},
   "outputs": [
    {
     "data": {
      "text/plain": [
       "0.9864"
      ]
     },
     "execution_count": 54,
     "metadata": {},
     "output_type": "execute_result"
    }
   ],
   "source": [
    "model_rf.score(xtest,ytest)"
   ]
  },
  {
   "cell_type": "code",
   "execution_count": 55,
   "metadata": {},
   "outputs": [
    {
     "data": {
      "text/plain": [
       "0.9144"
      ]
     },
     "execution_count": 55,
     "metadata": {},
     "output_type": "execute_result"
    }
   ],
   "source": [
    "model_svc.score(xtest,ytest)"
   ]
  },
  {
   "cell_type": "raw",
   "metadata": {},
   "source": [
    "# Class Weights\n",
    "# Statsmodel\n",
    "# Performance Evaluation: ROC-AUC, ConfusionMatrix, R2Score, Classification Report\n",
    "# Feature Importances\n",
    "# GridSearch Cross Validation: Hyperparmeter Tuning\n",
    "# KFold Cross Validation\n",
    "# Bagging Approach\n",
    "# Boost Approach"
   ]
  },
  {
   "cell_type": "code",
   "execution_count": 61,
   "metadata": {},
   "outputs": [],
   "source": [
    "from sklearn.metrics import classification_report, confusion_matrix, roc_curve, roc_auc_score\n",
    "import scipy.stats as stats\n",
    "import statsmodels.api as sm"
   ]
  },
  {
   "cell_type": "code",
   "execution_count": 62,
   "metadata": {},
   "outputs": [],
   "source": [
    "from sklearn.model_selection import GridSearchCV"
   ]
  },
  {
   "cell_type": "code",
   "execution_count": 60,
   "metadata": {},
   "outputs": [
    {
     "data": {
      "text/html": [
       "<div>\n",
       "<style scoped>\n",
       "    .dataframe tbody tr th:only-of-type {\n",
       "        vertical-align: middle;\n",
       "    }\n",
       "\n",
       "    .dataframe tbody tr th {\n",
       "        vertical-align: top;\n",
       "    }\n",
       "\n",
       "    .dataframe thead th {\n",
       "        text-align: right;\n",
       "    }\n",
       "</style>\n",
       "<table border=\"1\" class=\"dataframe\">\n",
       "  <thead>\n",
       "    <tr style=\"text-align: right;\">\n",
       "      <th></th>\n",
       "      <th>Coefficient</th>\n",
       "    </tr>\n",
       "  </thead>\n",
       "  <tbody>\n",
       "    <tr>\n",
       "      <th>Age</th>\n",
       "      <td>-0.489065</td>\n",
       "    </tr>\n",
       "    <tr>\n",
       "      <th>Experience</th>\n",
       "      <td>0.487918</td>\n",
       "    </tr>\n",
       "    <tr>\n",
       "      <th>Income</th>\n",
       "      <td>0.050265</td>\n",
       "    </tr>\n",
       "    <tr>\n",
       "      <th>Family</th>\n",
       "      <td>0.666452</td>\n",
       "    </tr>\n",
       "    <tr>\n",
       "      <th>CCAvg</th>\n",
       "      <td>0.083024</td>\n",
       "    </tr>\n",
       "    <tr>\n",
       "      <th>Education</th>\n",
       "      <td>1.598608</td>\n",
       "    </tr>\n",
       "    <tr>\n",
       "      <th>Mortgage</th>\n",
       "      <td>0.000926</td>\n",
       "    </tr>\n",
       "    <tr>\n",
       "      <th>Securities_Account</th>\n",
       "      <td>0.260919</td>\n",
       "    </tr>\n",
       "    <tr>\n",
       "      <th>CD_Account</th>\n",
       "      <td>2.860832</td>\n",
       "    </tr>\n",
       "    <tr>\n",
       "      <th>Online</th>\n",
       "      <td>-0.583027</td>\n",
       "    </tr>\n",
       "    <tr>\n",
       "      <th>CreditCard</th>\n",
       "      <td>-0.448530</td>\n",
       "    </tr>\n",
       "  </tbody>\n",
       "</table>\n",
       "</div>"
      ],
      "text/plain": [
       "                    Coefficient\n",
       "Age                   -0.489065\n",
       "Experience             0.487918\n",
       "Income                 0.050265\n",
       "Family                 0.666452\n",
       "CCAvg                  0.083024\n",
       "Education              1.598608\n",
       "Mortgage               0.000926\n",
       "Securities_Account     0.260919\n",
       "CD_Account             2.860832\n",
       "Online                -0.583027\n",
       "CreditCard            -0.448530"
      ]
     },
     "execution_count": 60,
     "metadata": {},
     "output_type": "execute_result"
    }
   ],
   "source": [
    "pd.DataFrame(model_log.coef_, index=['Coefficient'],columns=x.columns).T"
   ]
  },
  {
   "cell_type": "code",
   "execution_count": 68,
   "metadata": {},
   "outputs": [],
   "source": [
    "sns.set_style('whitegrid')"
   ]
  },
  {
   "cell_type": "code",
   "execution_count": 86,
   "metadata": {},
   "outputs": [],
   "source": [
    "def performance(xt, yt, model):\n",
    "    yp = model.predict(xt)\n",
    "    print('Classification Report')\n",
    "    print('-'*30)\n",
    "    print('R2-Score:',model.score(xt,yt))\n",
    "    print(classification_report(yt,yp))\n",
    "    print('-'*30)\n",
    "    plt.figure(figsize=(16,5))\n",
    "    plt.subplot(1,2,1)\n",
    "    sns.heatmap(pd.DataFrame(confusion_matrix(yt,yp),index=['No','Yes'],columns=['No','Yes']),annot=True,fmt='d')\n",
    "    plt.title('Confusion Matrix')\n",
    "    rocAuc = roc_auc_score(yt, yp)\n",
    "    fpr,tpr,th = roc_curve(yt, yp)\n",
    "    plt.subplot(1,2,2)\n",
    "    plt.plot(fpr,tpr, label = 'Model (area=%0.2f)'%rocAuc)\n",
    "    plt.plot([0,1],[0,1],'r--')\n",
    "    plt.xlim([0.0, 1.0])\n",
    "    plt.ylim([0.0, 1.05])\n",
    "    plt.xlabel('False Positive Rate')\n",
    "    plt.ylabel('True Positive Rate')\n",
    "    plt.legend(loc='lower right')\n",
    "    plt.title('ROC Curve')\n",
    "    plt.show()"
   ]
  },
  {
   "cell_type": "code",
   "execution_count": 87,
   "metadata": {},
   "outputs": [
    {
     "name": "stdout",
     "output_type": "stream",
     "text": [
      "Classification Report\n",
      "------------------------------\n",
      "R2-Score: 0.9448\n",
      "              precision    recall  f1-score   support\n",
      "\n",
      "           0       0.95      0.99      0.97      1137\n",
      "           1       0.81      0.51      0.63       113\n",
      "\n",
      "    accuracy                           0.94      1250\n",
      "   macro avg       0.88      0.75      0.80      1250\n",
      "weighted avg       0.94      0.94      0.94      1250\n",
      "\n",
      "------------------------------\n"
     ]
    },
    {
     "data": {
      "image/png": "[encoded data removed]",
      "text/plain": [
       "<Figure size 1152x360 with 3 Axes>"
      ]
     },
     "metadata": {},
     "output_type": "display_data"
    }
   ],
   "source": [
    "performance(xtest,ytest, model_log)"
   ]
  },
  {
   "cell_type": "code",
   "execution_count": 88,
   "metadata": {},
   "outputs": [
    {
     "name": "stdout",
     "output_type": "stream",
     "text": [
      "Classification Report\n",
      "------------------------------\n",
      "R2-Score: 0.98\n",
      "              precision    recall  f1-score   support\n",
      "\n",
      "           0       0.99      0.99      0.99      1137\n",
      "           1       0.89      0.88      0.89       113\n",
      "\n",
      "    accuracy                           0.98      1250\n",
      "   macro avg       0.94      0.94      0.94      1250\n",
      "weighted avg       0.98      0.98      0.98      1250\n",
      "\n",
      "------------------------------\n"
     ]
    },
    {
     "data": {
      "image/png": "[encoded data removed]",
      "text/plain": [
       "<Figure size 1152x360 with 3 Axes>"
      ]
     },
     "metadata": {},
     "output_type": "display_data"
    }
   ],
   "source": [
    "performance(xtest,ytest, model_dt)"
   ]
  },
  {
   "cell_type": "code",
   "execution_count": 89,
   "metadata": {},
   "outputs": [
    {
     "name": "stdout",
     "output_type": "stream",
     "text": [
      "Classification Report\n",
      "------------------------------\n",
      "R2-Score: 0.9864\n",
      "              precision    recall  f1-score   support\n",
      "\n",
      "           0       0.99      1.00      0.99      1137\n",
      "           1       1.00      0.85      0.92       113\n",
      "\n",
      "    accuracy                           0.99      1250\n",
      "   macro avg       0.99      0.92      0.96      1250\n",
      "weighted avg       0.99      0.99      0.99      1250\n",
      "\n",
      "------------------------------\n"
     ]
    },
    {
     "data": {
      "image/png": "[encoded data removed]",
      "text/plain": [
       "<Figure size 1152x360 with 3 Axes>"
      ]
     },
     "metadata": {},
     "output_type": "display_data"
    }
   ],
   "source": [
    "performance(xtest,ytest, model_rf)"
   ]
  },
  {
   "cell_type": "code",
   "execution_count": 90,
   "metadata": {},
   "outputs": [
    {
     "name": "stdout",
     "output_type": "stream",
     "text": [
      "Classification Report\n",
      "------------------------------\n",
      "R2-Score: 0.9144\n",
      "              precision    recall  f1-score   support\n",
      "\n",
      "           0       0.92      0.99      0.95      1137\n",
      "           1       0.67      0.11      0.18       113\n",
      "\n",
      "    accuracy                           0.91      1250\n",
      "   macro avg       0.79      0.55      0.57      1250\n",
      "weighted avg       0.90      0.91      0.89      1250\n",
      "\n",
      "------------------------------\n"
     ]
    },
    {
     "data": {
      "image/png": "[encoded data removed]",
      "text/plain": [
       "<Figure size 1152x360 with 3 Axes>"
      ]
     },
     "metadata": {},
     "output_type": "display_data"
    }
   ],
   "source": [
    "performance(xtest,ytest, model_svc)"
   ]
  },
  {
   "cell_type": "markdown",
   "metadata": {},
   "source": [
    "### Improving the performance of the Models"
   ]
  },
  {
   "cell_type": "raw",
   "metadata": {},
   "source": [
    "R2-Score: 0.9448\n",
    "              precision    recall  f1-score   support\n",
    "\n",
    "           0       0.95      0.99      0.97      1137\n",
    "           1       0.81      0.51      0.63       113\n"
   ]
  },
  {
   "cell_type": "code",
   "execution_count": 98,
   "metadata": {},
   "outputs": [
    {
     "name": "stdout",
     "output_type": "stream",
     "text": [
      "Classification Report\n",
      "------------------------------\n",
      "R2-Score: 0.9528\n",
      "              precision    recall  f1-score   support\n",
      "\n",
      "           0       0.96      0.99      0.97      1137\n",
      "           1       0.82      0.61      0.70       113\n",
      "\n",
      "    accuracy                           0.95      1250\n",
      "   macro avg       0.89      0.80      0.84      1250\n",
      "weighted avg       0.95      0.95      0.95      1250\n",
      "\n",
      "------------------------------\n"
     ]
    },
    {
     "data": {
      "image/png": "[encoded data removed]",
      "text/plain": [
       "<Figure size 1152x360 with 3 Axes>"
      ]
     },
     "metadata": {},
     "output_type": "display_data"
    }
   ],
   "source": [
    "model_log1 = LogisticRegression(solver='newton-cg',random_state=101,class_weight={0:0.5, 1:0.75}).fit(xtrain,ytrain)\n",
    "performance(xtest,ytest,model_log1)"
   ]
  },
  {
   "cell_type": "code",
   "execution_count": 100,
   "metadata": {},
   "outputs": [],
   "source": [
    "params = {'solver':['lbfgs','newton-cg'],'class_weight':[{0:0.5, 1:0.75}, {0:0.5, 1:0.5}, {0:0.2, 1:0.8},{0:0.8, 1:0.8},{0:0.9, 1:0.1},{0:0.1, 1:0.9}] }"
   ]
  },
  {
   "cell_type": "code",
   "execution_count": 101,
   "metadata": {
    "scrolled": true
   },
   "outputs": [
    {
     "name": "stdout",
     "output_type": "stream",
     "text": [
      "Fitting 5 folds for each of 12 candidates, totalling 60 fits\n",
      "[CV] class_weight={0: 0.5, 1: 0.75}, solver=lbfgs ....................\n",
      "[CV]  class_weight={0: 0.5, 1: 0.75}, solver=lbfgs, score=0.941, total=   0.1s\n",
      "[CV] class_weight={0: 0.5, 1: 0.75}, solver=lbfgs ....................\n"
     ]
    },
    {
     "name": "stderr",
     "output_type": "stream",
     "text": [
      "[Parallel(n_jobs=1)]: Using backend SequentialBackend with 1 concurrent workers.\n",
      "[Parallel(n_jobs=1)]: Done   1 out of   1 | elapsed:    0.0s remaining:    0.0s\n"
     ]
    },
    {
     "name": "stdout",
     "output_type": "stream",
     "text": [
      "[CV]  class_weight={0: 0.5, 1: 0.75}, solver=lbfgs, score=0.956, total=   0.2s\n",
      "[CV] class_weight={0: 0.5, 1: 0.75}, solver=lbfgs ....................\n",
      "[CV]  class_weight={0: 0.5, 1: 0.75}, solver=lbfgs, score=0.935, total=   0.2s\n",
      "[CV] class_weight={0: 0.5, 1: 0.75}, solver=lbfgs ....................\n"
     ]
    },
    {
     "name": "stderr",
     "output_type": "stream",
     "text": [
      "[Parallel(n_jobs=1)]: Done   2 out of   2 | elapsed:    0.2s remaining:    0.0s\n"
     ]
    },
    {
     "name": "stdout",
     "output_type": "stream",
     "text": [
      "[CV]  class_weight={0: 0.5, 1: 0.75}, solver=lbfgs, score=0.952, total=   0.2s\n",
      "[CV] class_weight={0: 0.5, 1: 0.75}, solver=lbfgs ....................\n",
      "[CV]  class_weight={0: 0.5, 1: 0.75}, solver=lbfgs, score=0.945, total=   0.1s\n",
      "[CV] class_weight={0: 0.5, 1: 0.75}, solver=newton-cg ................\n",
      "[CV]  class_weight={0: 0.5, 1: 0.75}, solver=newton-cg, score=0.945, total=   0.3s\n",
      "[CV] class_weight={0: 0.5, 1: 0.75}, solver=newton-cg ................\n",
      "[CV]  class_weight={0: 0.5, 1: 0.75}, solver=newton-cg, score=0.959, total=   0.3s\n",
      "[CV] class_weight={0: 0.5, 1: 0.75}, solver=newton-cg ................\n",
      "[CV]  class_weight={0: 0.5, 1: 0.75}, solver=newton-cg, score=0.941, total=   0.3s\n",
      "[CV] class_weight={0: 0.5, 1: 0.75}, solver=newton-cg ................\n",
      "[CV]  class_weight={0: 0.5, 1: 0.75}, solver=newton-cg, score=0.949, total=   0.3s\n",
      "[CV] class_weight={0: 0.5, 1: 0.75}, solver=newton-cg ................\n",
      "[CV]  class_weight={0: 0.5, 1: 0.75}, solver=newton-cg, score=0.949, total=   0.4s\n",
      "[CV] class_weight={0: 0.5, 1: 0.5}, solver=lbfgs .....................\n",
      "[CV]  class_weight={0: 0.5, 1: 0.5}, solver=lbfgs, score=0.948, total=   0.2s\n",
      "[CV] class_weight={0: 0.5, 1: 0.5}, solver=lbfgs .....................\n",
      "[CV]  class_weight={0: 0.5, 1: 0.5}, solver=lbfgs, score=0.963, total=   0.3s\n",
      "[CV] class_weight={0: 0.5, 1: 0.5}, solver=lbfgs .....................\n",
      "[CV]  class_weight={0: 0.5, 1: 0.5}, solver=lbfgs, score=0.935, total=   0.4s\n",
      "[CV] class_weight={0: 0.5, 1: 0.5}, solver=lbfgs .....................\n",
      "[CV]  class_weight={0: 0.5, 1: 0.5}, solver=lbfgs, score=0.953, total=   0.2s\n",
      "[CV] class_weight={0: 0.5, 1: 0.5}, solver=lbfgs .....................\n",
      "[CV]  class_weight={0: 0.5, 1: 0.5}, solver=lbfgs, score=0.949, total=   0.2s\n",
      "[CV] class_weight={0: 0.5, 1: 0.5}, solver=newton-cg .................\n",
      "[CV]  class_weight={0: 0.5, 1: 0.5}, solver=newton-cg, score=0.949, total=   0.5s\n",
      "[CV] class_weight={0: 0.5, 1: 0.5}, solver=newton-cg .................\n",
      "[CV]  class_weight={0: 0.5, 1: 0.5}, solver=newton-cg, score=0.964, total=   0.5s\n",
      "[CV] class_weight={0: 0.5, 1: 0.5}, solver=newton-cg .................\n",
      "[CV]  class_weight={0: 0.5, 1: 0.5}, solver=newton-cg, score=0.932, total=   0.4s\n",
      "[CV] class_weight={0: 0.5, 1: 0.5}, solver=newton-cg .................\n",
      "[CV]  class_weight={0: 0.5, 1: 0.5}, solver=newton-cg, score=0.955, total=   0.4s\n",
      "[CV] class_weight={0: 0.5, 1: 0.5}, solver=newton-cg .................\n",
      "[CV]  class_weight={0: 0.5, 1: 0.5}, solver=newton-cg, score=0.956, total=   0.5s\n",
      "[CV] class_weight={0: 0.2, 1: 0.8}, solver=lbfgs .....................\n",
      "[CV]  class_weight={0: 0.2, 1: 0.8}, solver=lbfgs, score=0.907, total=   0.1s\n",
      "[CV] class_weight={0: 0.2, 1: 0.8}, solver=lbfgs .....................\n",
      "[CV]  class_weight={0: 0.2, 1: 0.8}, solver=lbfgs, score=0.941, total=   0.2s\n",
      "[CV] class_weight={0: 0.2, 1: 0.8}, solver=lbfgs .....................\n",
      "[CV]  class_weight={0: 0.2, 1: 0.8}, solver=lbfgs, score=0.897, total=   0.2s\n",
      "[CV] class_weight={0: 0.2, 1: 0.8}, solver=lbfgs .....................\n",
      "[CV]  class_weight={0: 0.2, 1: 0.8}, solver=lbfgs, score=0.924, total=   0.2s\n",
      "[CV] class_weight={0: 0.2, 1: 0.8}, solver=lbfgs .....................\n",
      "[CV]  class_weight={0: 0.2, 1: 0.8}, solver=lbfgs, score=0.929, total=   0.2s\n",
      "[CV] class_weight={0: 0.2, 1: 0.8}, solver=newton-cg .................\n",
      "[CV]  class_weight={0: 0.2, 1: 0.8}, solver=newton-cg, score=0.928, total=   0.2s\n",
      "[CV] class_weight={0: 0.2, 1: 0.8}, solver=newton-cg .................\n",
      "[CV]  class_weight={0: 0.2, 1: 0.8}, solver=newton-cg, score=0.952, total=   0.3s\n",
      "[CV] class_weight={0: 0.2, 1: 0.8}, solver=newton-cg .................\n",
      "[CV]  class_weight={0: 0.2, 1: 0.8}, solver=newton-cg, score=0.919, total=   0.3s\n",
      "[CV] class_weight={0: 0.2, 1: 0.8}, solver=newton-cg .................\n",
      "[CV]  class_weight={0: 0.2, 1: 0.8}, solver=newton-cg, score=0.945, total=   0.3s\n",
      "[CV] class_weight={0: 0.2, 1: 0.8}, solver=newton-cg .................\n",
      "[CV]  class_weight={0: 0.2, 1: 0.8}, solver=newton-cg, score=0.929, total=   0.3s\n",
      "[CV] class_weight={0: 0.8, 1: 0.8}, solver=lbfgs .....................\n",
      "[CV]  class_weight={0: 0.8, 1: 0.8}, solver=lbfgs, score=0.945, total=   0.1s\n",
      "[CV] class_weight={0: 0.8, 1: 0.8}, solver=lbfgs .....................\n",
      "[CV]  class_weight={0: 0.8, 1: 0.8}, solver=lbfgs, score=0.960, total=   0.2s\n",
      "[CV] class_weight={0: 0.8, 1: 0.8}, solver=lbfgs .....................\n",
      "[CV]  class_weight={0: 0.8, 1: 0.8}, solver=lbfgs, score=0.940, total=   0.2s\n",
      "[CV] class_weight={0: 0.8, 1: 0.8}, solver=lbfgs .....................\n",
      "[CV]  class_weight={0: 0.8, 1: 0.8}, solver=lbfgs, score=0.952, total=   0.2s\n",
      "[CV] class_weight={0: 0.8, 1: 0.8}, solver=lbfgs .....................\n",
      "[CV]  class_weight={0: 0.8, 1: 0.8}, solver=lbfgs, score=0.947, total=   0.2s\n",
      "[CV] class_weight={0: 0.8, 1: 0.8}, solver=newton-cg .................\n",
      "[CV]  class_weight={0: 0.8, 1: 0.8}, solver=newton-cg, score=0.948, total=   0.4s\n",
      "[CV] class_weight={0: 0.8, 1: 0.8}, solver=newton-cg .................\n",
      "[CV]  class_weight={0: 0.8, 1: 0.8}, solver=newton-cg, score=0.964, total=   0.5s\n",
      "[CV] class_weight={0: 0.8, 1: 0.8}, solver=newton-cg .................\n",
      "[CV]  class_weight={0: 0.8, 1: 0.8}, solver=newton-cg, score=0.935, total=   0.5s\n",
      "[CV] class_weight={0: 0.8, 1: 0.8}, solver=newton-cg .................\n",
      "[CV]  class_weight={0: 0.8, 1: 0.8}, solver=newton-cg, score=0.956, total=   0.3s\n",
      "[CV] class_weight={0: 0.8, 1: 0.8}, solver=newton-cg .................\n",
      "[CV]  class_weight={0: 0.8, 1: 0.8}, solver=newton-cg, score=0.957, total=   0.4s\n",
      "[CV] class_weight={0: 0.9, 1: 0.1}, solver=lbfgs .....................\n",
      "[CV]  class_weight={0: 0.9, 1: 0.1}, solver=lbfgs, score=0.928, total=   0.1s\n",
      "[CV] class_weight={0: 0.9, 1: 0.1}, solver=lbfgs .....................\n",
      "[CV]  class_weight={0: 0.9, 1: 0.1}, solver=lbfgs, score=0.935, total=   0.1s\n",
      "[CV] class_weight={0: 0.9, 1: 0.1}, solver=lbfgs .....................\n",
      "[CV]  class_weight={0: 0.9, 1: 0.1}, solver=lbfgs, score=0.924, total=   0.1s\n",
      "[CV] class_weight={0: 0.9, 1: 0.1}, solver=lbfgs .....................\n",
      "[CV]  class_weight={0: 0.9, 1: 0.1}, solver=lbfgs, score=0.935, total=   0.1s\n",
      "[CV] class_weight={0: 0.9, 1: 0.1}, solver=lbfgs .....................\n",
      "[CV]  class_weight={0: 0.9, 1: 0.1}, solver=lbfgs, score=0.925, total=   0.1s\n",
      "[CV] class_weight={0: 0.9, 1: 0.1}, solver=newton-cg .................\n",
      "[CV]  class_weight={0: 0.9, 1: 0.1}, solver=newton-cg, score=0.936, total=   0.4s\n",
      "[CV] class_weight={0: 0.9, 1: 0.1}, solver=newton-cg .................\n",
      "[CV]  class_weight={0: 0.9, 1: 0.1}, solver=newton-cg, score=0.940, total=   0.4s\n",
      "[CV] class_weight={0: 0.9, 1: 0.1}, solver=newton-cg .................\n",
      "[CV]  class_weight={0: 0.9, 1: 0.1}, solver=newton-cg, score=0.932, total=   0.3s\n",
      "[CV] class_weight={0: 0.9, 1: 0.1}, solver=newton-cg .................\n",
      "[CV]  class_weight={0: 0.9, 1: 0.1}, solver=newton-cg, score=0.937, total=   0.3s\n",
      "[CV] class_weight={0: 0.9, 1: 0.1}, solver=newton-cg .................\n",
      "[CV]  class_weight={0: 0.9, 1: 0.1}, solver=newton-cg, score=0.929, total=   0.3s\n",
      "[CV] class_weight={0: 0.1, 1: 0.9}, solver=lbfgs .....................\n",
      "[CV]  class_weight={0: 0.1, 1: 0.9}, solver=lbfgs, score=0.876, total=   0.1s\n",
      "[CV] class_weight={0: 0.1, 1: 0.9}, solver=lbfgs .....................\n",
      "[CV]  class_weight={0: 0.1, 1: 0.9}, solver=lbfgs, score=0.913, total=   0.1s\n",
      "[CV] class_weight={0: 0.1, 1: 0.9}, solver=lbfgs .....................\n",
      "[CV]  class_weight={0: 0.1, 1: 0.9}, solver=lbfgs, score=0.872, total=   0.1s\n",
      "[CV] class_weight={0: 0.1, 1: 0.9}, solver=lbfgs .....................\n",
      "[CV]  class_weight={0: 0.1, 1: 0.9}, solver=lbfgs, score=0.908, total=   0.1s\n",
      "[CV] class_weight={0: 0.1, 1: 0.9}, solver=lbfgs .....................\n",
      "[CV]  class_weight={0: 0.1, 1: 0.9}, solver=lbfgs, score=0.885, total=   0.1s\n",
      "[CV] class_weight={0: 0.1, 1: 0.9}, solver=newton-cg .................\n",
      "[CV]  class_weight={0: 0.1, 1: 0.9}, solver=newton-cg, score=0.892, total=   0.2s\n",
      "[CV] class_weight={0: 0.1, 1: 0.9}, solver=newton-cg .................\n",
      "[CV]  class_weight={0: 0.1, 1: 0.9}, solver=newton-cg, score=0.920, total=   0.1s\n",
      "[CV] class_weight={0: 0.1, 1: 0.9}, solver=newton-cg .................\n",
      "[CV]  class_weight={0: 0.1, 1: 0.9}, solver=newton-cg, score=0.872, total=   0.2s\n",
      "[CV] class_weight={0: 0.1, 1: 0.9}, solver=newton-cg .................\n",
      "[CV]  class_weight={0: 0.1, 1: 0.9}, solver=newton-cg, score=0.907, total=   0.2s\n",
      "[CV] class_weight={0: 0.1, 1: 0.9}, solver=newton-cg .................\n",
      "[CV]  class_weight={0: 0.1, 1: 0.9}, solver=newton-cg, score=0.904, total=   0.2s\n"
     ]
    },
    {
     "name": "stderr",
     "output_type": "stream",
     "text": [
      "[Parallel(n_jobs=1)]: Done  60 out of  60 | elapsed:   14.8s finished\n"
     ]
    }
   ],
   "source": [
    "gcv_legit = GridSearchCV(LogisticRegression(),param_grid=params,verbose=3).fit(xtrain,ytrain)"
   ]
  },
  {
   "cell_type": "code",
   "execution_count": 102,
   "metadata": {},
   "outputs": [
    {
     "data": {
      "text/plain": [
       "{'class_weight': {0: 0.8, 1: 0.8}, 'solver': 'newton-cg'}"
      ]
     },
     "execution_count": 102,
     "metadata": {},
     "output_type": "execute_result"
    }
   ],
   "source": [
    "gcv_legit.best_params_"
   ]
  },
  {
   "cell_type": "code",
   "execution_count": 103,
   "metadata": {},
   "outputs": [
    {
     "name": "stdout",
     "output_type": "stream",
     "text": [
      "Classification Report\n",
      "------------------------------\n",
      "R2-Score: 0.9528\n",
      "              precision    recall  f1-score   support\n",
      "\n",
      "           0       0.96      0.99      0.97      1137\n",
      "           1       0.86      0.57      0.68       113\n",
      "\n",
      "    accuracy                           0.95      1250\n",
      "   macro avg       0.91      0.78      0.83      1250\n",
      "weighted avg       0.95      0.95      0.95      1250\n",
      "\n",
      "------------------------------\n"
     ]
    },
    {
     "data": {
      "image/png": "[encoded data removed]",
      "text/plain": [
       "<Figure size 1152x360 with 3 Axes>"
      ]
     },
     "metadata": {},
     "output_type": "display_data"
    }
   ],
   "source": [
    "performance(xtest,ytest,gcv_legit.best_estimator_)"
   ]
  },
  {
   "cell_type": "code",
   "execution_count": 104,
   "metadata": {},
   "outputs": [
    {
     "data": {
      "text/html": [
       "<div>\n",
       "<style scoped>\n",
       "    .dataframe tbody tr th:only-of-type {\n",
       "        vertical-align: middle;\n",
       "    }\n",
       "\n",
       "    .dataframe tbody tr th {\n",
       "        vertical-align: top;\n",
       "    }\n",
       "\n",
       "    .dataframe thead th {\n",
       "        text-align: right;\n",
       "    }\n",
       "</style>\n",
       "<table border=\"1\" class=\"dataframe\">\n",
       "  <thead>\n",
       "    <tr style=\"text-align: right;\">\n",
       "      <th></th>\n",
       "      <th>Coefficient</th>\n",
       "    </tr>\n",
       "  </thead>\n",
       "  <tbody>\n",
       "    <tr>\n",
       "      <th>Age</th>\n",
       "      <td>-0.079742</td>\n",
       "    </tr>\n",
       "    <tr>\n",
       "      <th>Experience</th>\n",
       "      <td>0.089982</td>\n",
       "    </tr>\n",
       "    <tr>\n",
       "      <th>Income</th>\n",
       "      <td>0.051790</td>\n",
       "    </tr>\n",
       "    <tr>\n",
       "      <th>Family</th>\n",
       "      <td>0.685185</td>\n",
       "    </tr>\n",
       "    <tr>\n",
       "      <th>CCAvg</th>\n",
       "      <td>0.121470</td>\n",
       "    </tr>\n",
       "    <tr>\n",
       "      <th>Education</th>\n",
       "      <td>1.634057</td>\n",
       "    </tr>\n",
       "    <tr>\n",
       "      <th>Mortgage</th>\n",
       "      <td>0.000828</td>\n",
       "    </tr>\n",
       "    <tr>\n",
       "      <th>Securities_Account</th>\n",
       "      <td>-0.659308</td>\n",
       "    </tr>\n",
       "    <tr>\n",
       "      <th>CD_Account</th>\n",
       "      <td>3.427122</td>\n",
       "    </tr>\n",
       "    <tr>\n",
       "      <th>Online</th>\n",
       "      <td>-0.676103</td>\n",
       "    </tr>\n",
       "    <tr>\n",
       "      <th>CreditCard</th>\n",
       "      <td>-0.914587</td>\n",
       "    </tr>\n",
       "  </tbody>\n",
       "</table>\n",
       "</div>"
      ],
      "text/plain": [
       "                    Coefficient\n",
       "Age                   -0.079742\n",
       "Experience             0.089982\n",
       "Income                 0.051790\n",
       "Family                 0.685185\n",
       "CCAvg                  0.121470\n",
       "Education              1.634057\n",
       "Mortgage               0.000828\n",
       "Securities_Account    -0.659308\n",
       "CD_Account             3.427122\n",
       "Online                -0.676103\n",
       "CreditCard            -0.914587"
      ]
     },
     "execution_count": 104,
     "metadata": {},
     "output_type": "execute_result"
    }
   ],
   "source": [
    "pd.DataFrame(gcv_legit.best_estimator_.coef_, index=['Coefficient'],columns=x.columns).T"
   ]
  },
  {
   "cell_type": "markdown",
   "metadata": {},
   "source": [
    "###### dropping the columns, which are less relavent"
   ]
  },
  {
   "cell_type": "code",
   "execution_count": 105,
   "metadata": {},
   "outputs": [
    {
     "data": {
      "text/plain": [
       "Index(['Age', 'Experience', 'Income', 'Family', 'CCAvg', 'Education',\n",
       "       'Mortgage', 'Securities_Account', 'CD_Account', 'Online', 'CreditCard'],\n",
       "      dtype='object')"
      ]
     },
     "execution_count": 105,
     "metadata": {},
     "output_type": "execute_result"
    }
   ],
   "source": [
    "xtrain.columns"
   ]
  },
  {
   "cell_type": "code",
   "execution_count": 106,
   "metadata": {},
   "outputs": [],
   "source": [
    "xtrain1 = xtrain.drop(['Age','Experience','Family','Securities_Account','Online', 'CreditCard'],axis=1)\n",
    "xtest1 = xtest.drop(['Age','Experience','Family','Securities_Account','Online', 'CreditCard'],axis=1)"
   ]
  },
  {
   "cell_type": "code",
   "execution_count": 107,
   "metadata": {
    "scrolled": true
   },
   "outputs": [
    {
     "name": "stdout",
     "output_type": "stream",
     "text": [
      "Fitting 5 folds for each of 12 candidates, totalling 60 fits\n",
      "[CV] class_weight={0: 0.5, 1: 0.75}, solver=lbfgs ....................\n",
      "[CV]  class_weight={0: 0.5, 1: 0.75}, solver=lbfgs, score=0.937, total=   0.1s\n",
      "[CV] class_weight={0: 0.5, 1: 0.75}, solver=lbfgs ....................\n"
     ]
    },
    {
     "name": "stderr",
     "output_type": "stream",
     "text": [
      "[Parallel(n_jobs=1)]: Using backend SequentialBackend with 1 concurrent workers.\n",
      "[Parallel(n_jobs=1)]: Done   1 out of   1 | elapsed:    0.0s remaining:    0.0s\n"
     ]
    },
    {
     "name": "stdout",
     "output_type": "stream",
     "text": [
      "[CV]  class_weight={0: 0.5, 1: 0.75}, solver=lbfgs, score=0.956, total=   0.1s\n",
      "[CV] class_weight={0: 0.5, 1: 0.75}, solver=lbfgs ....................\n",
      "[CV]  class_weight={0: 0.5, 1: 0.75}, solver=lbfgs, score=0.923, total=   0.2s"
     ]
    },
    {
     "name": "stderr",
     "output_type": "stream",
     "text": [
      "[Parallel(n_jobs=1)]: Done   2 out of   2 | elapsed:    0.2s remaining:    0.0s\n"
     ]
    },
    {
     "name": "stdout",
     "output_type": "stream",
     "text": [
      "\n",
      "[CV] class_weight={0: 0.5, 1: 0.75}, solver=lbfgs ....................\n",
      "[CV]  class_weight={0: 0.5, 1: 0.75}, solver=lbfgs, score=0.948, total=   0.1s\n",
      "[CV] class_weight={0: 0.5, 1: 0.75}, solver=lbfgs ....................\n",
      "[CV]  class_weight={0: 0.5, 1: 0.75}, solver=lbfgs, score=0.944, total=   0.1s\n",
      "[CV] class_weight={0: 0.5, 1: 0.75}, solver=newton-cg ................\n",
      "[CV]  class_weight={0: 0.5, 1: 0.75}, solver=newton-cg, score=0.937, total=   0.2s\n",
      "[CV] class_weight={0: 0.5, 1: 0.75}, solver=newton-cg ................\n",
      "[CV]  class_weight={0: 0.5, 1: 0.75}, solver=newton-cg, score=0.956, total=   0.2s\n",
      "[CV] class_weight={0: 0.5, 1: 0.75}, solver=newton-cg ................\n",
      "[CV]  class_weight={0: 0.5, 1: 0.75}, solver=newton-cg, score=0.923, total=   0.2s\n",
      "[CV] class_weight={0: 0.5, 1: 0.75}, solver=newton-cg ................\n",
      "[CV]  class_weight={0: 0.5, 1: 0.75}, solver=newton-cg, score=0.948, total=   0.2s\n",
      "[CV] class_weight={0: 0.5, 1: 0.75}, solver=newton-cg ................\n",
      "[CV]  class_weight={0: 0.5, 1: 0.75}, solver=newton-cg, score=0.944, total=   0.2s\n",
      "[CV] class_weight={0: 0.5, 1: 0.5}, solver=lbfgs .....................\n",
      "[CV]  class_weight={0: 0.5, 1: 0.5}, solver=lbfgs, score=0.943, total=   0.1s\n",
      "[CV] class_weight={0: 0.5, 1: 0.5}, solver=lbfgs .....................\n",
      "[CV]  class_weight={0: 0.5, 1: 0.5}, solver=lbfgs, score=0.960, total=   0.1s\n",
      "[CV] class_weight={0: 0.5, 1: 0.5}, solver=lbfgs .....................\n",
      "[CV]  class_weight={0: 0.5, 1: 0.5}, solver=lbfgs, score=0.928, total=   0.1s\n",
      "[CV] class_weight={0: 0.5, 1: 0.5}, solver=lbfgs .....................\n",
      "[CV]  class_weight={0: 0.5, 1: 0.5}, solver=lbfgs, score=0.952, total=   0.1s\n",
      "[CV] class_weight={0: 0.5, 1: 0.5}, solver=lbfgs .....................\n",
      "[CV]  class_weight={0: 0.5, 1: 0.5}, solver=lbfgs, score=0.947, total=   0.1s\n",
      "[CV] class_weight={0: 0.5, 1: 0.5}, solver=newton-cg .................\n",
      "[CV]  class_weight={0: 0.5, 1: 0.5}, solver=newton-cg, score=0.943, total=   0.2s\n",
      "[CV] class_weight={0: 0.5, 1: 0.5}, solver=newton-cg .................\n",
      "[CV]  class_weight={0: 0.5, 1: 0.5}, solver=newton-cg, score=0.960, total=   0.3s\n",
      "[CV] class_weight={0: 0.5, 1: 0.5}, solver=newton-cg .................\n",
      "[CV]  class_weight={0: 0.5, 1: 0.5}, solver=newton-cg, score=0.928, total=   0.3s\n",
      "[CV] class_weight={0: 0.5, 1: 0.5}, solver=newton-cg .................\n",
      "[CV]  class_weight={0: 0.5, 1: 0.5}, solver=newton-cg, score=0.952, total=   0.3s\n",
      "[CV] class_weight={0: 0.5, 1: 0.5}, solver=newton-cg .................\n",
      "[CV]  class_weight={0: 0.5, 1: 0.5}, solver=newton-cg, score=0.947, total=   0.2s\n",
      "[CV] class_weight={0: 0.2, 1: 0.8}, solver=lbfgs .....................\n",
      "[CV]  class_weight={0: 0.2, 1: 0.8}, solver=lbfgs, score=0.912, total=   0.1s\n",
      "[CV] class_weight={0: 0.2, 1: 0.8}, solver=lbfgs .....................\n",
      "[CV]  class_weight={0: 0.2, 1: 0.8}, solver=lbfgs, score=0.933, total=   0.1s\n",
      "[CV] class_weight={0: 0.2, 1: 0.8}, solver=lbfgs .....................\n",
      "[CV]  class_weight={0: 0.2, 1: 0.8}, solver=lbfgs, score=0.892, total=   0.1s\n",
      "[CV] class_weight={0: 0.2, 1: 0.8}, solver=lbfgs .....................\n",
      "[CV]  class_weight={0: 0.2, 1: 0.8}, solver=lbfgs, score=0.929, total=   0.1s\n",
      "[CV] class_weight={0: 0.2, 1: 0.8}, solver=lbfgs .....................\n",
      "[CV]  class_weight={0: 0.2, 1: 0.8}, solver=lbfgs, score=0.929, total=   0.1s\n",
      "[CV] class_weight={0: 0.2, 1: 0.8}, solver=newton-cg .................\n",
      "[CV]  class_weight={0: 0.2, 1: 0.8}, solver=newton-cg, score=0.912, total=   0.2s\n",
      "[CV] class_weight={0: 0.2, 1: 0.8}, solver=newton-cg .................\n",
      "[CV]  class_weight={0: 0.2, 1: 0.8}, solver=newton-cg, score=0.933, total=   0.2s\n",
      "[CV] class_weight={0: 0.2, 1: 0.8}, solver=newton-cg .................\n",
      "[CV]  class_weight={0: 0.2, 1: 0.8}, solver=newton-cg, score=0.892, total=   0.1s\n",
      "[CV] class_weight={0: 0.2, 1: 0.8}, solver=newton-cg .................\n",
      "[CV]  class_weight={0: 0.2, 1: 0.8}, solver=newton-cg, score=0.929, total=   0.1s\n",
      "[CV] class_weight={0: 0.2, 1: 0.8}, solver=newton-cg .................\n",
      "[CV]  class_weight={0: 0.2, 1: 0.8}, solver=newton-cg, score=0.929, total=   0.1s\n",
      "[CV] class_weight={0: 0.8, 1: 0.8}, solver=lbfgs .....................\n",
      "[CV]  class_weight={0: 0.8, 1: 0.8}, solver=lbfgs, score=0.943, total=   0.2s\n",
      "[CV] class_weight={0: 0.8, 1: 0.8}, solver=lbfgs .....................\n",
      "[CV]  class_weight={0: 0.8, 1: 0.8}, solver=lbfgs, score=0.960, total=   0.3s\n",
      "[CV] class_weight={0: 0.8, 1: 0.8}, solver=lbfgs .....................\n",
      "[CV]  class_weight={0: 0.8, 1: 0.8}, solver=lbfgs, score=0.925, total=   0.2s\n",
      "[CV] class_weight={0: 0.8, 1: 0.8}, solver=lbfgs .....................\n",
      "[CV]  class_weight={0: 0.8, 1: 0.8}, solver=lbfgs, score=0.953, total=   0.1s\n",
      "[CV] class_weight={0: 0.8, 1: 0.8}, solver=lbfgs .....................\n",
      "[CV]  class_weight={0: 0.8, 1: 0.8}, solver=lbfgs, score=0.948, total=   0.1s\n",
      "[CV] class_weight={0: 0.8, 1: 0.8}, solver=newton-cg .................\n",
      "[CV]  class_weight={0: 0.8, 1: 0.8}, solver=newton-cg, score=0.943, total=   0.3s\n",
      "[CV] class_weight={0: 0.8, 1: 0.8}, solver=newton-cg .................\n",
      "[CV]  class_weight={0: 0.8, 1: 0.8}, solver=newton-cg, score=0.960, total=   0.2s\n",
      "[CV] class_weight={0: 0.8, 1: 0.8}, solver=newton-cg .................\n",
      "[CV]  class_weight={0: 0.8, 1: 0.8}, solver=newton-cg, score=0.925, total=   0.2s\n",
      "[CV] class_weight={0: 0.8, 1: 0.8}, solver=newton-cg .................\n",
      "[CV]  class_weight={0: 0.8, 1: 0.8}, solver=newton-cg, score=0.953, total=   0.2s\n",
      "[CV] class_weight={0: 0.8, 1: 0.8}, solver=newton-cg .................\n",
      "[CV]  class_weight={0: 0.8, 1: 0.8}, solver=newton-cg, score=0.948, total=   0.2s\n",
      "[CV] class_weight={0: 0.9, 1: 0.1}, solver=lbfgs .....................\n",
      "[CV]  class_weight={0: 0.9, 1: 0.1}, solver=lbfgs, score=0.929, total=   0.1s\n",
      "[CV] class_weight={0: 0.9, 1: 0.1}, solver=lbfgs .....................\n",
      "[CV]  class_weight={0: 0.9, 1: 0.1}, solver=lbfgs, score=0.936, total=   0.1s\n",
      "[CV] class_weight={0: 0.9, 1: 0.1}, solver=lbfgs .....................\n",
      "[CV]  class_weight={0: 0.9, 1: 0.1}, solver=lbfgs, score=0.932, total=   0.1s\n",
      "[CV] class_weight={0: 0.9, 1: 0.1}, solver=lbfgs .....................\n",
      "[CV]  class_weight={0: 0.9, 1: 0.1}, solver=lbfgs, score=0.933, total=   0.1s\n",
      "[CV] class_weight={0: 0.9, 1: 0.1}, solver=lbfgs .....................\n",
      "[CV]  class_weight={0: 0.9, 1: 0.1}, solver=lbfgs, score=0.929, total=   0.1s\n",
      "[CV] class_weight={0: 0.9, 1: 0.1}, solver=newton-cg .................\n",
      "[CV]  class_weight={0: 0.9, 1: 0.1}, solver=newton-cg, score=0.929, total=   0.3s\n",
      "[CV] class_weight={0: 0.9, 1: 0.1}, solver=newton-cg .................\n",
      "[CV]  class_weight={0: 0.9, 1: 0.1}, solver=newton-cg, score=0.936, total=   0.3s\n",
      "[CV] class_weight={0: 0.9, 1: 0.1}, solver=newton-cg .................\n",
      "[CV]  class_weight={0: 0.9, 1: 0.1}, solver=newton-cg, score=0.932, total=   0.3s\n",
      "[CV] class_weight={0: 0.9, 1: 0.1}, solver=newton-cg .................\n",
      "[CV]  class_weight={0: 0.9, 1: 0.1}, solver=newton-cg, score=0.933, total=   0.3s\n",
      "[CV] class_weight={0: 0.9, 1: 0.1}, solver=newton-cg .................\n",
      "[CV]  class_weight={0: 0.9, 1: 0.1}, solver=newton-cg, score=0.929, total=   0.3s\n",
      "[CV] class_weight={0: 0.1, 1: 0.9}, solver=lbfgs .....................\n",
      "[CV]  class_weight={0: 0.1, 1: 0.9}, solver=lbfgs, score=0.875, total=   0.1s\n",
      "[CV] class_weight={0: 0.1, 1: 0.9}, solver=lbfgs .....................\n",
      "[CV]  class_weight={0: 0.1, 1: 0.9}, solver=lbfgs, score=0.908, total=   0.1s\n",
      "[CV] class_weight={0: 0.1, 1: 0.9}, solver=lbfgs .....................\n",
      "[CV]  class_weight={0: 0.1, 1: 0.9}, solver=lbfgs, score=0.877, total=   0.1s\n",
      "[CV] class_weight={0: 0.1, 1: 0.9}, solver=lbfgs .....................\n",
      "[CV]  class_weight={0: 0.1, 1: 0.9}, solver=lbfgs, score=0.897, total=   0.1s\n",
      "[CV] class_weight={0: 0.1, 1: 0.9}, solver=lbfgs .....................\n",
      "[CV]  class_weight={0: 0.1, 1: 0.9}, solver=lbfgs, score=0.893, total=   0.1s\n",
      "[CV] class_weight={0: 0.1, 1: 0.9}, solver=newton-cg .................\n",
      "[CV]  class_weight={0: 0.1, 1: 0.9}, solver=newton-cg, score=0.875, total=   0.2s\n",
      "[CV] class_weight={0: 0.1, 1: 0.9}, solver=newton-cg .................\n",
      "[CV]  class_weight={0: 0.1, 1: 0.9}, solver=newton-cg, score=0.908, total=   0.2s\n",
      "[CV] class_weight={0: 0.1, 1: 0.9}, solver=newton-cg .................\n",
      "[CV]  class_weight={0: 0.1, 1: 0.9}, solver=newton-cg, score=0.877, total=   0.1s\n",
      "[CV] class_weight={0: 0.1, 1: 0.9}, solver=newton-cg .................\n",
      "[CV]  class_weight={0: 0.1, 1: 0.9}, solver=newton-cg, score=0.897, total=   0.2s\n",
      "[CV] class_weight={0: 0.1, 1: 0.9}, solver=newton-cg .................\n",
      "[CV]  class_weight={0: 0.1, 1: 0.9}, solver=newton-cg, score=0.895, total=   0.1s\n"
     ]
    },
    {
     "name": "stderr",
     "output_type": "stream",
     "text": [
      "[Parallel(n_jobs=1)]: Done  60 out of  60 | elapsed:   10.3s finished\n"
     ]
    },
    {
     "name": "stdout",
     "output_type": "stream",
     "text": [
      "Classification Report\n",
      "------------------------------\n",
      "R2-Score: 0.9496\n",
      "              precision    recall  f1-score   support\n",
      "\n",
      "           0       0.96      0.99      0.97      1137\n",
      "           1       0.85      0.54      0.66       113\n",
      "\n",
      "    accuracy                           0.95      1250\n",
      "   macro avg       0.90      0.77      0.82      1250\n",
      "weighted avg       0.95      0.95      0.94      1250\n",
      "\n",
      "------------------------------\n"
     ]
    },
    {
     "data": {
      "image/png": "[encoded data removed]",
      "text/plain": [
       "<Figure size 1152x360 with 3 Axes>"
      ]
     },
     "metadata": {},
     "output_type": "display_data"
    }
   ],
   "source": [
    "gcv_legit1 = GridSearchCV(LogisticRegression(),param_grid=params,verbose=3).fit(xtrain1,ytrain)\n"
   ]
  },
  {
   "cell_type": "code",
   "execution_count": 108,
   "metadata": {},
   "outputs": [
    {
     "name": "stdout",
     "output_type": "stream",
     "text": [
      "Classification Report\n",
      "------------------------------\n",
      "R2-Score: 0.9496\n",
      "              precision    recall  f1-score   support\n",
      "\n",
      "           0       0.96      0.99      0.97      1137\n",
      "           1       0.85      0.54      0.66       113\n",
      "\n",
      "    accuracy                           0.95      1250\n",
      "   macro avg       0.90      0.77      0.82      1250\n",
      "weighted avg       0.95      0.95      0.94      1250\n",
      "\n",
      "------------------------------\n"
     ]
    },
    {
     "data": {
      "image/png": "[encoded data removed]",
      "text/plain": [
       "<Figure size 1152x360 with 3 Axes>"
      ]
     },
     "metadata": {},
     "output_type": "display_data"
    }
   ],
   "source": [
    "performance(xtest1,ytest,gcv_legit1.best_estimator_)"
   ]
  },
  {
   "cell_type": "code",
   "execution_count": null,
   "metadata": {},
   "outputs": [],
   "source": []
  }
 ],
 "metadata": {
  "kernelspec": {
   "display_name": "Python 3",
   "language": "python",
   "name": "python3"
  },
  "language_info": {
   "codemirror_mode": {
    "name": "ipython",
    "version": 3
   },
   "file_extension": ".py",
   "mimetype": "text/x-python",
   "name": "python",
   "nbconvert_exporter": "python",
   "pygments_lexer": "ipython3",
   "version": "3.8.5"
  }
 },
 "nbformat": 4,
 "nbformat_minor": 4
}
