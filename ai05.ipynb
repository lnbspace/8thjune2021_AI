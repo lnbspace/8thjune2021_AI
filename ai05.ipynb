{
 "cells": [
  {
   "cell_type": "code",
   "execution_count": 1,
   "metadata": {},
   "outputs": [],
   "source": [
    "import cv2\n",
    "import pandas as pd\n",
    "import matplotlib.pyplot as plt\n",
    "from time import sleep"
   ]
  },
  {
   "cell_type": "code",
   "execution_count": 2,
   "metadata": {},
   "outputs": [],
   "source": [
    "import face_recognition as fr"
   ]
  },
  {
   "cell_type": "code",
   "execution_count": 3,
   "metadata": {},
   "outputs": [],
   "source": [
    "img1 = fr.load_image_file('messi.jpg')\n",
    "img2 = fr.load_image_file('ronaldo.jpg')\n",
    "img3 = fr.load_image_file('messi2.jpeg')"
   ]
  },
  {
   "cell_type": "code",
   "execution_count": 7,
   "metadata": {},
   "outputs": [],
   "source": [
    "img1_enc = fr.face_encodings(img1)[0]"
   ]
  },
  {
   "cell_type": "code",
   "execution_count": 9,
   "metadata": {},
   "outputs": [
    {
     "data": {
      "text/plain": [
       "(128,)"
      ]
     },
     "execution_count": 9,
     "metadata": {},
     "output_type": "execute_result"
    }
   ],
   "source": [
    "img1_enc.shape"
   ]
  },
  {
   "cell_type": "code",
   "execution_count": 10,
   "metadata": {},
   "outputs": [],
   "source": [
    "img2_enc = fr.face_encodings(img2)[0]\n",
    "img3_enc = fr.face_encodings(img3)[0]"
   ]
  },
  {
   "cell_type": "code",
   "execution_count": 11,
   "metadata": {},
   "outputs": [
    {
     "data": {
      "text/plain": [
       "(128,)"
      ]
     },
     "execution_count": 11,
     "metadata": {},
     "output_type": "execute_result"
    }
   ],
   "source": [
    "img2_enc.shape"
   ]
  },
  {
   "cell_type": "code",
   "execution_count": 12,
   "metadata": {},
   "outputs": [
    {
     "data": {
      "text/plain": [
       "(128,)"
      ]
     },
     "execution_count": 12,
     "metadata": {},
     "output_type": "execute_result"
    }
   ],
   "source": [
    "img3_enc.shape"
   ]
  },
  {
   "cell_type": "code",
   "execution_count": 13,
   "metadata": {},
   "outputs": [],
   "source": [
    "db_d = {'features':[img1_enc,img2_enc,img3_enc],'label':['messi','ronaldo','messi']}"
   ]
  },
  {
   "cell_type": "code",
   "execution_count": 14,
   "metadata": {},
   "outputs": [],
   "source": [
    "db = pd.DataFrame(db_d)"
   ]
  },
  {
   "cell_type": "code",
   "execution_count": 15,
   "metadata": {},
   "outputs": [
    {
     "data": {
      "text/html": [
       "<div>\n",
       "<style scoped>\n",
       "    .dataframe tbody tr th:only-of-type {\n",
       "        vertical-align: middle;\n",
       "    }\n",
       "\n",
       "    .dataframe tbody tr th {\n",
       "        vertical-align: top;\n",
       "    }\n",
       "\n",
       "    .dataframe thead th {\n",
       "        text-align: right;\n",
       "    }\n",
       "</style>\n",
       "<table border=\"1\" class=\"dataframe\">\n",
       "  <thead>\n",
       "    <tr style=\"text-align: right;\">\n",
       "      <th></th>\n",
       "      <th>features</th>\n",
       "      <th>label</th>\n",
       "    </tr>\n",
       "  </thead>\n",
       "  <tbody>\n",
       "    <tr>\n",
       "      <th>0</th>\n",
       "      <td>[-0.08195223659276962, 0.11779557913541794, -0...</td>\n",
       "      <td>messi</td>\n",
       "    </tr>\n",
       "    <tr>\n",
       "      <th>1</th>\n",
       "      <td>[-0.1972106546163559, 0.10987276583909988, 0.0...</td>\n",
       "      <td>ronaldo</td>\n",
       "    </tr>\n",
       "    <tr>\n",
       "      <th>2</th>\n",
       "      <td>[-0.1048058494925499, 0.21991509199142456, 0.0...</td>\n",
       "      <td>messi</td>\n",
       "    </tr>\n",
       "  </tbody>\n",
       "</table>\n",
       "</div>"
      ],
      "text/plain": [
       "                                            features    label\n",
       "0  [-0.08195223659276962, 0.11779557913541794, -0...    messi\n",
       "1  [-0.1972106546163559, 0.10987276583909988, 0.0...  ronaldo\n",
       "2  [-0.1048058494925499, 0.21991509199142456, 0.0...    messi"
      ]
     },
     "execution_count": 15,
     "metadata": {},
     "output_type": "execute_result"
    }
   ],
   "source": [
    "db"
   ]
  },
  {
   "cell_type": "code",
   "execution_count": 16,
   "metadata": {},
   "outputs": [],
   "source": [
    "pd.to_pickle(db,'face_db.pkl')"
   ]
  },
  {
   "cell_type": "code",
   "execution_count": 17,
   "metadata": {},
   "outputs": [],
   "source": [
    "loaded_db = pd.read_pickle('face_db.pkl')"
   ]
  },
  {
   "cell_type": "code",
   "execution_count": 18,
   "metadata": {},
   "outputs": [
    {
     "data": {
      "text/html": [
       "<div>\n",
       "<style scoped>\n",
       "    .dataframe tbody tr th:only-of-type {\n",
       "        vertical-align: middle;\n",
       "    }\n",
       "\n",
       "    .dataframe tbody tr th {\n",
       "        vertical-align: top;\n",
       "    }\n",
       "\n",
       "    .dataframe thead th {\n",
       "        text-align: right;\n",
       "    }\n",
       "</style>\n",
       "<table border=\"1\" class=\"dataframe\">\n",
       "  <thead>\n",
       "    <tr style=\"text-align: right;\">\n",
       "      <th></th>\n",
       "      <th>features</th>\n",
       "      <th>label</th>\n",
       "    </tr>\n",
       "  </thead>\n",
       "  <tbody>\n",
       "    <tr>\n",
       "      <th>0</th>\n",
       "      <td>[-0.08195223659276962, 0.11779557913541794, -0...</td>\n",
       "      <td>messi</td>\n",
       "    </tr>\n",
       "    <tr>\n",
       "      <th>1</th>\n",
       "      <td>[-0.1972106546163559, 0.10987276583909988, 0.0...</td>\n",
       "      <td>ronaldo</td>\n",
       "    </tr>\n",
       "    <tr>\n",
       "      <th>2</th>\n",
       "      <td>[-0.1048058494925499, 0.21991509199142456, 0.0...</td>\n",
       "      <td>messi</td>\n",
       "    </tr>\n",
       "  </tbody>\n",
       "</table>\n",
       "</div>"
      ],
      "text/plain": [
       "                                            features    label\n",
       "0  [-0.08195223659276962, 0.11779557913541794, -0...    messi\n",
       "1  [-0.1972106546163559, 0.10987276583909988, 0.0...  ronaldo\n",
       "2  [-0.1048058494925499, 0.21991509199142456, 0.0...    messi"
      ]
     },
     "execution_count": 18,
     "metadata": {},
     "output_type": "execute_result"
    }
   ],
   "source": [
    "loaded_db"
   ]
  },
  {
   "cell_type": "code",
   "execution_count": 22,
   "metadata": {
    "scrolled": true,
    "tags": []
   },
   "outputs": [
    {
     "data": {
      "text/plain": [
       "[array([-0.08195224,  0.11779558, -0.01635283, -0.01465822, -0.18867306,\n",
       "         0.1258038 ,  0.00854704, -0.04944235,  0.10620625, -0.08761718,\n",
       "         0.25661477, -0.11075939, -0.2956709 , -0.04430807, -0.07967894,\n",
       "         0.14484459, -0.11662865, -0.09750845, -0.21017459, -0.17776123,\n",
       "        -0.02921933,  0.02917239,  0.00324161,  0.04106348, -0.23219591,\n",
       "        -0.27096966, -0.00614034, -0.16593093,  0.05394638, -0.12740044,\n",
       "        -0.07219993,  0.09745438, -0.1099368 , -0.07105465,  0.04151046,\n",
       "         0.05223315, -0.03908642, -0.05906308,  0.21769165, -0.09034602,\n",
       "        -0.13403611,  0.12259667,  0.13738073,  0.28944406,  0.1205425 ,\n",
       "         0.02488644,  0.02998332, -0.06350243,  0.15924871, -0.19959491,\n",
       "         0.11080751,  0.15489604,  0.18870756,  0.11492258,  0.0557697 ,\n",
       "        -0.18536383, -0.02268932,  0.20573856, -0.1369189 ,  0.05025003,\n",
       "         0.0494682 , -0.00425828, -0.053708  , -0.12470821,  0.22294694,\n",
       "         0.16066086, -0.11119939, -0.18407542,  0.13047165, -0.11946924,\n",
       "        -0.03074455,  0.10203198, -0.16189194, -0.11654766, -0.18438458,\n",
       "         0.09875081,  0.34337944,  0.16854194, -0.17657042, -0.03768946,\n",
       "        -0.07454231, -0.02705193, -0.00333059,  0.01612638, -0.11525622,\n",
       "        -0.10307829, -0.04071761,  0.05187635,  0.20699267, -0.05812272,\n",
       "        -0.03215287,  0.18984628,  0.08136079, -0.08318055,  0.0050787 ,\n",
       "         0.00046177, -0.21285231, -0.01080211, -0.05099584,  0.00575049,\n",
       "         0.06785563, -0.12298955,  0.00948548,  0.04796078, -0.19900417,\n",
       "         0.19229701, -0.07700809,  0.02648055,  0.01741767,  0.00451163,\n",
       "        -0.04140129,  0.04849891,  0.22930901, -0.26902086,  0.21540356,\n",
       "         0.10472624,  0.06678188,  0.133412  ,  0.122766  ,  0.06239504,\n",
       "         0.02265068,  0.04811835, -0.18529163, -0.13645926,  0.13953865,\n",
       "        -0.1279279 ,  0.07072202,  0.03717383]),\n",
       " array([-1.97210655e-01,  1.09872766e-01,  5.51247559e-02, -3.07414159e-02,\n",
       "        -1.24701940e-01,  1.00240014e-01, -1.67054813e-02, -1.06740229e-01,\n",
       "         1.18230119e-01,  1.22288410e-02,  2.36065134e-01, -7.16900080e-02,\n",
       "        -3.18326861e-01, -6.13509677e-02, -1.18999824e-01,  1.23151928e-01,\n",
       "        -1.67556614e-01, -1.31284490e-01, -7.81309009e-02, -1.09420449e-01,\n",
       "         7.92467222e-02, -1.43698957e-02, -7.57319480e-03,  6.02597222e-02,\n",
       "        -1.88401207e-01, -2.49632359e-01,  1.11304149e-02, -1.27760649e-01,\n",
       "         5.89861833e-02, -1.54489040e-01, -4.68778014e-02, -7.67531479e-03,\n",
       "        -1.94975227e-01, -5.81711493e-02, -6.89251274e-02,  8.67245048e-02,\n",
       "         1.04771461e-05, -4.32728641e-02,  2.12221593e-01, -3.64466757e-02,\n",
       "        -1.34078190e-01,  4.15189117e-02,  2.17757523e-02,  2.90638119e-01,\n",
       "         1.72938168e-01,  1.03310756e-02,  6.48375526e-02, -3.41729671e-02,\n",
       "         1.30620107e-01, -3.06461722e-01,  4.23319302e-02,  1.55645087e-01,\n",
       "         1.77307025e-01,  2.41204817e-03,  2.56865751e-03, -2.02008590e-01,\n",
       "        -6.52815327e-02,  2.13514507e-01, -1.62395135e-01,  2.02550143e-01,\n",
       "         1.16213411e-01, -8.10150430e-02,  9.02375206e-04, -6.70178831e-02,\n",
       "         1.84088647e-01,  7.75966272e-02, -1.22134931e-01, -1.12813205e-01,\n",
       "         1.31663203e-01, -7.03313351e-02,  5.12053585e-03,  1.16205439e-01,\n",
       "        -8.73316154e-02, -2.26364940e-01, -2.27464318e-01,  1.22162089e-01,\n",
       "         4.62437898e-01,  1.43392950e-01, -2.01186821e-01, -2.39922442e-02,\n",
       "        -1.31164014e-01,  2.31951792e-02,  5.53040542e-02, -3.62499878e-02,\n",
       "        -1.02618665e-01, -1.20073631e-02, -1.94262415e-01,  4.65092957e-02,\n",
       "         2.10870236e-01,  4.74115927e-03,  4.21798788e-04,  2.33549848e-01,\n",
       "         5.25640324e-02, -3.62835377e-02,  2.96146236e-02,  1.11569598e-01,\n",
       "        -1.44944087e-01,  3.09907869e-02, -5.93149886e-02,  1.09271202e-02,\n",
       "         4.01666947e-02, -1.56698868e-01,  8.14970508e-02,  1.26832789e-02,\n",
       "        -1.37553528e-01,  1.54781565e-01, -6.05572090e-02,  2.99228281e-02,\n",
       "        -6.90746903e-02, -5.52593395e-02, -8.79212022e-02,  7.47348592e-02,\n",
       "         2.42581323e-01, -2.80336142e-01,  1.56256467e-01,  1.64263487e-01,\n",
       "         4.81095277e-02,  1.65284142e-01,  1.12171829e-01,  6.79607540e-02,\n",
       "         1.01238117e-02,  1.52003160e-02, -1.09115094e-01, -9.24139544e-02,\n",
       "         6.78891316e-02, -9.18510109e-02,  1.34990722e-01,  7.84624517e-02]),\n",
       " array([-1.04805849e-01,  2.19915092e-01,  5.46100885e-02, -6.01166300e-02,\n",
       "        -1.54283449e-01,  1.01574212e-01, -6.07903153e-02, -4.15263176e-02,\n",
       "         1.15006723e-01, -1.15573406e-04,  2.12576076e-01, -2.95429397e-02,\n",
       "        -2.64072925e-01, -1.65348183e-02, -1.02619477e-01,  1.21554971e-01,\n",
       "        -1.59267426e-01, -6.39945939e-02, -1.40286103e-01, -1.84868366e-01,\n",
       "        -7.09671974e-02,  9.26925465e-02, -1.99576560e-02,  4.37868610e-02,\n",
       "        -1.29420340e-01, -2.43218854e-01,  5.22432253e-02, -1.77526131e-01,\n",
       "         9.63150859e-02, -1.33693159e-01, -8.21498111e-02,  4.22273614e-02,\n",
       "        -1.04129635e-01, -4.74092625e-02,  3.24085578e-02,  1.84061006e-04,\n",
       "        -5.03191426e-02, -8.74539316e-02,  2.17788160e-01, -6.14705086e-02,\n",
       "        -7.24318996e-02,  4.09016088e-02,  1.45275503e-01,  2.77078241e-01,\n",
       "         1.53351694e-01, -1.16137811e-03,  3.71220633e-02, -7.16468990e-02,\n",
       "         2.08270356e-01, -2.00082019e-01,  1.27054214e-01,  1.72138870e-01,\n",
       "         1.23755105e-01,  1.20503359e-01,  3.22119668e-02, -2.27173805e-01,\n",
       "        -4.79409099e-02,  1.53651401e-01, -1.80648491e-01,  1.07101403e-01,\n",
       "         8.26300159e-02,  1.80742145e-03, -1.11185275e-01, -9.85061750e-02,\n",
       "         1.87014922e-01,  2.06740454e-01, -9.65957120e-02, -2.08204582e-01,\n",
       "         1.31724954e-01, -1.67020038e-01, -4.80296463e-02,  5.72997890e-02,\n",
       "        -1.16058178e-01, -8.13657492e-02, -1.80330500e-01,  9.50289369e-02,\n",
       "         2.90351659e-01,  1.92315131e-01, -1.40954390e-01, -4.96656299e-02,\n",
       "        -8.35345909e-02, -5.58932610e-02,  1.77967884e-02,  6.80407602e-03,\n",
       "        -1.65422797e-01, -1.01364121e-01, -1.69875566e-03,  5.23612648e-03,\n",
       "         2.05942720e-01,  2.46410016e-02, -4.41331118e-02,  1.83708504e-01,\n",
       "         8.41562003e-02, -7.80894905e-02,  3.06496583e-03,  2.49621794e-02,\n",
       "        -1.79332748e-01, -3.78763899e-02, -8.79523903e-02,  1.12204691e-02,\n",
       "        -5.10297716e-03, -1.55311018e-01,  1.71903484e-02,  8.38451609e-02,\n",
       "        -2.13851243e-01,  1.50294706e-01, -1.15164556e-02,  2.96337344e-02,\n",
       "         2.09055003e-02,  3.98870707e-02, -6.82830513e-02, -2.56279223e-02,\n",
       "         2.40436688e-01, -1.86576799e-01,  2.42713153e-01,  9.29389894e-02,\n",
       "         1.32786840e-01,  1.41916424e-01,  1.15074784e-01,  8.58172178e-02,\n",
       "         4.39195558e-02,  7.72959646e-03, -8.43455419e-02, -1.35790333e-01,\n",
       "         8.08265954e-02, -8.36667642e-02,  3.58460136e-02,  6.51737899e-02])]"
      ]
     },
     "execution_count": 22,
     "metadata": {},
     "output_type": "execute_result"
    }
   ],
   "source": [
    "loaded_db['features'].values.tolist()"
   ]
  },
  {
   "cell_type": "code",
   "execution_count": 19,
   "metadata": {},
   "outputs": [],
   "source": [
    "newenc1 = fr.face_encodings(fr.load_image_file('messi3.jpg'))[0]"
   ]
  },
  {
   "cell_type": "code",
   "execution_count": 23,
   "metadata": {},
   "outputs": [],
   "source": [
    "res = fr.compare_faces(loaded_db['features'].values.tolist(),newenc1)"
   ]
  },
  {
   "cell_type": "code",
   "execution_count": 24,
   "metadata": {},
   "outputs": [
    {
     "data": {
      "text/plain": [
       "[True, False, True]"
      ]
     },
     "execution_count": 24,
     "metadata": {},
     "output_type": "execute_result"
    }
   ],
   "source": [
    "res"
   ]
  },
  {
   "cell_type": "code",
   "execution_count": 27,
   "metadata": {},
   "outputs": [
    {
     "data": {
      "text/plain": [
       "'messi'"
      ]
     },
     "execution_count": 27,
     "metadata": {},
     "output_type": "execute_result"
    }
   ],
   "source": [
    "loaded_db['label'][res].values[0]"
   ]
  },
  {
   "cell_type": "code",
   "execution_count": 42,
   "metadata": {},
   "outputs": [],
   "source": [
    "def predict(img_name):\n",
    "    newenc1 = fr.face_encodings(fr.load_image_file(img_name))[0]\n",
    "    res = fr.compare_faces(loaded_db['features'].values.tolist(),newenc1,tolerance=0.5)    \n",
    "    if sum(res):\n",
    "        return loaded_db['label'][res].values[0]\n",
    "    return 'unknown'"
   ]
  },
  {
   "cell_type": "code",
   "execution_count": 43,
   "metadata": {},
   "outputs": [
    {
     "data": {
      "text/plain": [
       "'ronaldo'"
      ]
     },
     "execution_count": 43,
     "metadata": {},
     "output_type": "execute_result"
    }
   ],
   "source": [
    "predict('ronaldo2.jpg')"
   ]
  },
  {
   "cell_type": "code",
   "execution_count": 44,
   "metadata": {},
   "outputs": [
    {
     "data": {
      "text/plain": [
       "'unknown'"
      ]
     },
     "execution_count": 44,
     "metadata": {},
     "output_type": "execute_result"
    }
   ],
   "source": [
    "predict('bale.jpg')"
   ]
  },
  {
   "cell_type": "code",
   "execution_count": 45,
   "metadata": {},
   "outputs": [
    {
     "data": {
      "text/plain": [
       "'messi'"
      ]
     },
     "execution_count": 45,
     "metadata": {},
     "output_type": "execute_result"
    }
   ],
   "source": [
    "predict('messi3.jpg')"
   ]
  },
  {
   "cell_type": "code",
   "execution_count": 46,
   "metadata": {},
   "outputs": [],
   "source": [
    "h = cv2.HOGDescriptor()"
   ]
  },
  {
   "cell_type": "code",
   "execution_count": 48,
   "metadata": {},
   "outputs": [],
   "source": [
    "h.setSVMDetector(cv2.HOGDescriptor_getDefaultPeopleDetector())"
   ]
  },
  {
   "cell_type": "code",
   "execution_count": 49,
   "metadata": {},
   "outputs": [
    {
     "data": {
      "text/plain": [
       "<HOGDescriptor 0000013F10803E10>"
      ]
     },
     "execution_count": 49,
     "metadata": {},
     "output_type": "execute_result"
    }
   ],
   "source": [
    "h"
   ]
  },
  {
   "cell_type": "code",
   "execution_count": 52,
   "metadata": {},
   "outputs": [
    {
     "data": {
      "text/plain": [
       "array([[ 0.05359386],\n",
       "       [-0.14721455],\n",
       "       [-0.0553217 ],\n",
       "       ...,\n",
       "       [-0.04229729],\n",
       "       [ 0.10666174],\n",
       "       [-6.6657915 ]], dtype=float32)"
      ]
     },
     "execution_count": 52,
     "metadata": {},
     "output_type": "execute_result"
    }
   ],
   "source": [
    "h.svmDetector"
   ]
  },
  {
   "cell_type": "code",
   "execution_count": 51,
   "metadata": {},
   "outputs": [
    {
     "data": {
      "text/plain": [
       "(3781, 1)"
      ]
     },
     "execution_count": 51,
     "metadata": {},
     "output_type": "execute_result"
    }
   ],
   "source": [
    "h.svmDetector.shape"
   ]
  },
  {
   "cell_type": "code",
   "execution_count": 67,
   "metadata": {},
   "outputs": [],
   "source": [
    "ppl = cv2.imread('people2.jpg')"
   ]
  },
  {
   "cell_type": "code",
   "execution_count": 68,
   "metadata": {},
   "outputs": [],
   "source": [
    "val = h.detectMultiScale(ppl, scale=1.1, winStride=(4,4),padding=(8,8))"
   ]
  },
  {
   "cell_type": "code",
   "execution_count": 66,
   "metadata": {},
   "outputs": [
    {
     "data": {
      "text/plain": [
       "(array([[ 31,   0, 128, 249],\n",
       "        [227,   0, 128, 241],\n",
       "        [164,   0, 129, 251],\n",
       "        [ 68,  74, 103, 206],\n",
       "        [138,  67,  74, 148]], dtype=int32),\n",
       " array([[0.77127987],\n",
       "        [0.97198406],\n",
       "        [0.44658683],\n",
       "        [0.68631709],\n",
       "        [0.34140174]]))"
      ]
     },
     "execution_count": 66,
     "metadata": {},
     "output_type": "execute_result"
    }
   ],
   "source": [
    "val"
   ]
  },
  {
   "cell_type": "code",
   "execution_count": 83,
   "metadata": {},
   "outputs": [
    {
     "name": "stdout",
     "output_type": "stream",
     "text": [
      "0.9810690486629028\n",
      "0.7702426176401787\n",
      "0.4949490916915238\n",
      "1.0099050131975673\n"
     ]
    },
    {
     "data": {
      "text/plain": [
       "-1"
      ]
     },
     "execution_count": 83,
     "metadata": {},
     "output_type": "execute_result"
    }
   ],
   "source": [
    "ppl = cv2.imread('people2.jpg')\n",
    "h = cv2.HOGDescriptor()\n",
    "h.setSVMDetector(cv2.HOGDescriptor_getDefaultPeopleDetector())\n",
    "val = h.detectMultiScale(ppl, scale=1.1, winStride=(3,3),padding=(8,8))\n",
    "for i,(x,y,w,h) in enumerate(val[0]):\n",
    "    print(val[1][i][0])\n",
    "    if val[1][i][0]>0.4:\n",
    "        cv2.rectangle(ppl, (x,y), (x+w, y+h), (0,0,255),2)\n",
    "cv2.imshow('people',ppl)\n",
    "cv2.waitKey(0)\n"
   ]
  },
  {
   "cell_type": "code",
   "execution_count": 69,
   "metadata": {},
   "outputs": [
    {
     "data": {
      "text/plain": [
       "<matplotlib.image.AxesImage at 0x13f10b37a90>"
      ]
     },
     "execution_count": 69,
     "metadata": {},
     "output_type": "execute_result"
    },
    {
     "data": {
      "image/png": "[encoded data removed]",
      "text/plain": [
       "<Figure size 432x288 with 1 Axes>"
      ]
     },
     "metadata": {
      "needs_background": "light"
     },
     "output_type": "display_data"
    }
   ],
   "source": [
    "plt.imshow(ppl)"
   ]
  },
  {
   "cell_type": "code",
   "execution_count": null,
   "metadata": {},
   "outputs": [],
   "source": []
  }
 ],
 "metadata": {
  "kernelspec": {
   "display_name": "Python 3",
   "language": "python",
   "name": "python3"
  },
  "language_info": {
   "codemirror_mode": {
    "name": "ipython",
    "version": 3
   },
   "file_extension": ".py",
   "mimetype": "text/x-python",
   "name": "python",
   "nbconvert_exporter": "python",
   "pygments_lexer": "ipython3",
   "version": "3.8.3"
  }
 },
 "nbformat": 4,
 "nbformat_minor": 4
}
