{
 "cells": [
  {
   "cell_type": "code",
   "execution_count": 15,
   "metadata": {},
   "outputs": [],
   "source": [
    "import pandas as pd\n",
    "from tkinter import *"
   ]
  },
  {
   "cell_type": "code",
   "execution_count": 16,
   "metadata": {},
   "outputs": [],
   "source": [
    "import warnings\n",
    "warnings.filterwarnings('ignore')"
   ]
  },
  {
   "cell_type": "code",
   "execution_count": 17,
   "metadata": {},
   "outputs": [],
   "source": [
    "model=pd.read_pickle('house_price_predictor.pkl')"
   ]
  },
  {
   "cell_type": "code",
   "execution_count": 18,
   "metadata": {},
   "outputs": [],
   "source": [
    "app = Tk()\n",
    "app.title('Housing_Model')\n",
    "app.geometry('500x350')\n",
    "fnt=('arial',17,'italic')\n",
    "\n",
    "\n",
    "\n",
    "def prediction():\n",
    "    inc=income.get()\n",
    "    age=house_age.get()\n",
    "    room=rooms.get()\n",
    "    pop=population.get()\n",
    "    query=pd.DataFrame({'income':[inc],'house_age':[age],'rooms':[room],'population':[pop]})\n",
    "    result.set(model.predict(query)[0])\n",
    "    result.get()\n",
    "income=IntVar()\n",
    "income.set('')\n",
    "house_age=IntVar()\n",
    "house_age.set('')\n",
    "rooms=IntVar()\n",
    "rooms.set('')\n",
    "population=IntVar()\n",
    "population.set('')\n",
    "\n",
    "Label(app,font=fnt,text=\"Enter Avg Income\",fg = 'grey').place(x=50,y=40,height=30,width=190)\n",
    "Label(app,font=fnt,text=\"Enter House Age\",fg = 'grey').place(x=50,y=80,height=30,width=190)\n",
    "Label(app,font=fnt,text=\"Enter No of Room\",fg = 'grey').place(x=50,y=120,height=30,width=190)\n",
    "Label(app,font=fnt,text=\"Enter population\",fg = 'grey').place(x=50,y=160,height=30,width=190)\n",
    "\n",
    "Entry(app,textvariable=income,width=25,bg = 'beige',highlightthickness=2,font=('Timesroman',16,'normal')).place(x=250,y=40,height=30,width=180)\n",
    "Entry(app,textvariable=house_age,width=25,bg = 'beige',highlightthickness=2,font=('Timesroman',16,'normal')).place(x=250,y=80,height=30,width=180)\n",
    "Entry(app,textvariable=rooms,width=25,bg = 'beige',highlightthickness=2,font=('Timesroman',16,'normal')).place(x=250,y=120,height=30,width=180)\n",
    "Entry(app,textvariable=population,width=25,bg = 'beige',highlightthickness=2,font=('Timesroman',16,'normal')).place(x=250,y=160,height=30,width=180)\n",
    "\n",
    "result=DoubleVar()   \n",
    "Entry(app,textvariable=result,font=fnt).place(x=260,y=250,height=50,width=190)\n",
    "\n",
    "Button(app,text=\"Show Price\",command=prediction,font=fnt,fg ='black',bg ='grey',relief =\"groove\",highlightcolor=\"grey\",width =7,height = 1).place(x=50,y=250,height=50,width=190)\n",
    "\n",
    "app.mainloop()"
   ]
  },
  {
   "cell_type": "code",
   "execution_count": null,
   "metadata": {},
   "outputs": [],
   "source": []
  }
 ],
 "metadata": {
  "kernelspec": {
   "display_name": "Python 3",
   "language": "python",
   "name": "python3"
  },
  "language_info": {
   "codemirror_mode": {
    "name": "ipython",
    "version": 3
   },
   "file_extension": ".py",
   "mimetype": "text/x-python",
   "name": "python",
   "nbconvert_exporter": "python",
   "pygments_lexer": "ipython3",
   "version": "3.8.5"
  }
 },
 "nbformat": 4,
 "nbformat_minor": 4
}
